{
 "cells": [
  {
   "cell_type": "code",
   "execution_count": 2,
   "metadata": {},
   "outputs": [],
   "source": [
    "from ogb.graphproppred.dataset_pyg import PygGraphPropPredDataset\n",
    "\n",
    "# Download and process data at './dataset/'\n",
    "dataset_molhiv = PygGraphPropPredDataset(name = 'ogbg-molhiv')\n",
    "\n",
    "dataset_molpcba = PygGraphPropPredDataset(name = 'ogbg-molpcba')\n",
    "\n",
    "dataset_ppa = PygGraphPropPredDataset(name = 'ogbg-ppa')"
   ]
  },
  {
   "cell_type": "code",
   "execution_count": null,
   "metadata": {},
   "outputs": [
    {
     "name": "stdout",
     "output_type": "stream",
     "text": [
      "num of labels in molhiv: 2\n",
      "num of features of nodes in molhiv: 9\n",
      "num of features of edges in molhiv: 3\n",
      "num of labels in molpcba: 2\n",
      "num of features of nodes in molpcba: 9\n",
      "num of features of edges in molpcba: 3\n",
      "num of labels in molppa: 37\n",
      "num of features of nodes in molppa: 0\n",
      "num of features of edges in molppa: 7\n"
     ]
    }
   ],
   "source": [
    "print(f\"num of labels in molhiv: {dataset_molhiv.num_classes}\")\n",
    "print(f\"num of features of nodes in molhiv: {dataset_molhiv.num_node_features}\")\n",
    "print(f\"num of features of edges in molhiv: {dataset_molhiv.num_edge_features}\")\n",
    "\n",
    "print(f\"num of labels in molpcba: {dataset_molpcba.num_classes}\")\n",
    "print(f\"num of features of nodes in molpcba: {dataset_molpcba.num_node_features}\")\n",
    "print(f\"num of features of edges in molpcba: {dataset_molpcba.num_edge_features}\")\n",
    "\n",
    "print(f\"num of labels in molppa: {dataset_ppa.num_classes}\")\n",
    "print(f\"num of features of nodes in molppa: {dataset_ppa.num_node_features}\")\n",
    "print(f\"num of features of edges in molppa: {dataset_ppa.num_edge_features}\")"
   ]
  },
  {
   "cell_type": "code",
   "execution_count": null,
   "metadata": {},
   "outputs": [
    {
     "name": "stderr",
     "output_type": "stream",
     "text": [
      "100%|██████████| 41127/41127 [00:02<00:00, 16828.15it/s]\n",
      "100%|██████████| 437929/437929 [00:20<00:00, 20878.54it/s]\n",
      "100%|██████████| 158100/158100 [00:06<00:00, 23513.13it/s]\n"
     ]
    },
    {
     "data": {
      "text/plain": [
       "PygGraphPropPredDataset (#graphs=158100):\n",
       "+------------+----------+----------+\n",
       "|            |   #nodes |   #edges |\n",
       "|------------+----------+----------|\n",
       "| mean       |    243.4 |   4532.2 |\n",
       "| std        |     85.4 |   2615.3 |\n",
       "| min        |     50   |    108   |\n",
       "| quantile25 |    182   |   2960   |\n",
       "| median     |    300   |   4274   |\n",
       "| quantile75 |    300   |   5716   |\n",
       "| max        |    300   |  36138   |\n",
       "+------------+----------+----------+"
      ]
     },
     "execution_count": 8,
     "metadata": {},
     "output_type": "execute_result"
    }
   ],
   "source": [
    "dataset_molhiv.get_summary()\n",
    "dataset_molpcba.get_summary()\n",
    "dataset_ppa.get_summary()"
   ]
  },
  {
   "cell_type": "code",
   "execution_count": null,
   "metadata": {},
   "outputs": [
    {
     "name": "stdout",
     "output_type": "stream",
     "text": [
      "example data of dataset_molhiv: Data(edge_index=[2, 40], edge_attr=[40, 3], x=[19, 9], y=[1, 1], num_nodes=19)\n",
      "example data of dataset_molpca: Data(edge_index=[2, 44], edge_attr=[44, 3], x=[20, 9], y=[1, 128], num_nodes=20)\n",
      "example data of dataset_ppa: Data(edge_index=[2, 4408], edge_attr=[4408, 7], y=[1, 1], num_nodes=300)\n"
     ]
    }
   ],
   "source": [
    "print(f\"example data of dataset_molhiv: {dataset_molhiv[0]}\")\n",
    "print(f\"example data of dataset_molpca: {dataset_molpcba[0]}\")\n",
    "print(f\"example data of dataset_ppa: {dataset_ppa[0]}\")"
   ]
  },
  {
   "cell_type": "code",
   "execution_count": 1,
   "metadata": {},
   "outputs": [],
   "source": [
    "from src.sampling.Sampling import sampling_graph_classification"
   ]
  },
  {
   "cell_type": "code",
   "execution_count": 3,
   "metadata": {},
   "outputs": [
    {
     "name": "stdout",
     "output_type": "stream",
     "text": [
      "--- Training --- [threshold, AUC] =  [0.006, 0.49]\n",
      "--- Iteration -1: Training loss --- [Data, Label, Total] = [136293.912058.3, 4069.479039.3, 140363.391097.3]\n",
      "Epoch [10/100],Elapsed_time: 0.24940967559814453,Loss_Classification: 7438.4604 Loss_MF: 0.5279\n",
      "mythre= 0.006132001\n",
      "mythre_test= 0.036419515\n",
      "Test accuracy = 0.034, Test AUC = 0.494\n",
      "--- Training --- [threshold, AUC] =  [0.036, 0.51]\n",
      "--- Iteration 9: Training loss --- [Data, Label, Total] = [139711.373419.3, 3215.572018.3, 142926.945437.3]\n",
      "Epoch [20/100],Elapsed_time: 0.5033578872680664,Loss_Classification: 7438.4604 Loss_MF: 0.5099\n",
      "mythre= 0.036419515\n",
      "mythre_test= 0.036419515\n",
      "Test accuracy = 0.814, Test AUC = 0.494\n",
      "--- Training --- [threshold, AUC] =  [0.036, 0.51]\n",
      "--- Iteration 19: Training loss --- [Data, Label, Total] = [136294.452850.3, 3215.572018.3, 139510.024867.3]\n",
      "Epoch [30/100],Elapsed_time: 0.7240700721740723,Loss_Classification: 7438.4604 Loss_MF: 0.5099\n",
      "mythre= 0.036419515\n",
      "mythre_test= 0.036419515\n",
      "Test accuracy = 0.814, Test AUC = 0.494\n",
      "--- Training --- [threshold, AUC] =  [0.036, 0.51]\n",
      "--- Iteration 29: Training loss --- [Data, Label, Total] = [136294.430317.3, 3215.572018.3, 139510.002334.3]\n",
      "Epoch [40/100],Elapsed_time: 0.9381709098815918,Loss_Classification: 7438.4604 Loss_MF: 0.5099\n",
      "mythre= 0.036419515\n",
      "mythre_test= 0.036419515\n",
      "Test accuracy = 0.814, Test AUC = 0.494\n",
      "--- Training --- [threshold, AUC] =  [0.036, 0.51]\n",
      "--- Iteration 39: Training loss --- [Data, Label, Total] = [136294.768312.3, 3215.572018.3, 139510.340330.3]\n",
      "Epoch [50/100],Elapsed_time: 1.1572954654693604,Loss_Classification: 7438.4604 Loss_MF: 0.5099\n",
      "mythre= 0.036419515\n",
      "mythre_test= 0.036419515\n",
      "Test accuracy = 0.814, Test AUC = 0.494\n",
      "--- Training --- [threshold, AUC] =  [0.036, 0.51]\n",
      "--- Iteration 49: Training loss --- [Data, Label, Total] = [136294.452850.3, 3215.572018.3, 139510.024867.3]\n",
      "Epoch [60/100],Elapsed_time: 1.3721106052398682,Loss_Classification: 7438.4604 Loss_MF: 0.5099\n",
      "mythre= 0.036419515\n",
      "mythre_test= 0.036419515\n",
      "Test accuracy = 0.814, Test AUC = 0.494\n",
      "--- Training --- [threshold, AUC] =  [0.036, 0.51]\n",
      "--- Iteration 59: Training loss --- [Data, Label, Total] = [136294.407784.3, 3215.572018.3, 139509.979801.3]\n",
      "Epoch [70/100],Elapsed_time: 1.5900537967681885,Loss_Classification: 7438.4604 Loss_MF: 0.5099\n",
      "mythre= 0.036419515\n",
      "mythre_test= 0.036419515\n",
      "Test accuracy = 0.814, Test AUC = 0.494\n",
      "--- Training --- [threshold, AUC] =  [0.036, 0.51]\n",
      "--- Iteration 69: Training loss --- [Data, Label, Total] = [136294.768312.3, 3215.572018.3, 139510.340330.3]\n",
      "Epoch [80/100],Elapsed_time: 1.8083686828613281,Loss_Classification: 7438.4604 Loss_MF: 0.5099\n",
      "mythre= 0.036419515\n",
      "mythre_test= 0.036419515\n",
      "Test accuracy = 0.814, Test AUC = 0.494\n",
      "--- Training --- [threshold, AUC] =  [0.036, 0.51]\n",
      "--- Iteration 79: Training loss --- [Data, Label, Total] = [136294.452850.3, 3215.572018.3, 139510.024867.3]\n",
      "Epoch [90/100],Elapsed_time: 2.034330368041992,Loss_Classification: 7438.4604 Loss_MF: 0.5099\n",
      "mythre= 0.036419515\n",
      "mythre_test= 0.036419515\n",
      "Test accuracy = 0.814, Test AUC = 0.494\n",
      "--- Training --- [threshold, AUC] =  [0.036, 0.51]\n",
      "--- Iteration 89: Training loss --- [Data, Label, Total] = [136294.430317.3, 3215.572018.3, 139510.002334.3]\n",
      "Epoch [100/100],Elapsed_time: 2.2529962062835693,Loss_Classification: 7438.4604 Loss_MF: 0.5099\n",
      "mythre= 0.036419515\n",
      "mythre_test= 0.036419515\n",
      "Test accuracy = 0.814, Test AUC = 0.494\n",
      "--- Training --- [threshold, AUC] =  [0.036, 0.51]\n",
      "--- Iteration 99: Training loss --- [Data, Label, Total] = [136294.790845.3, 3215.572018.3, 139510.362863.3]\n"
     ]
    },
    {
     "data": {
      "text/plain": [
       "{'n_components': 1,\n",
       " 'Training_threshold': 0.036419515,\n",
       " 'xi': 1,\n",
       " 'nonnegativity': [True, True],\n",
       " 'iter': 100,\n",
       " 'time_error': array([[0.00000000e+00, 2.49409676e-01, 5.03357887e-01, 7.24070072e-01,\n",
       "         9.38170910e-01, 1.15729547e+00, 1.37211061e+00, 1.59005380e+00,\n",
       "         1.80836868e+00, 2.03433037e+00, 2.25299621e+00],\n",
       "        [1.36293912e+05, 1.39711373e+05, 1.36294453e+05, 1.36294430e+05,\n",
       "         1.36294768e+05, 1.36294453e+05, 1.36294408e+05, 1.36294768e+05,\n",
       "         1.36294453e+05, 1.36294430e+05, 1.36294791e+05],\n",
       "        [4.06947904e+03, 3.21557202e+03, 3.21557202e+03, 3.21557202e+03,\n",
       "         3.21557202e+03, 3.21557202e+03, 3.21557202e+03, 3.21557202e+03,\n",
       "         3.21557202e+03, 3.21557202e+03, 3.21557202e+03]]),\n",
       " 'curren_epoch': 99,\n",
       " 'elapsed_time': 2.2529962062835693,\n",
       " 'loading': [array([[9.9999999e-09],\n",
       "         [9.9999999e-09],\n",
       "         [9.9999999e-09],\n",
       "         [9.9999999e-09],\n",
       "         [7.3425639e-01],\n",
       "         [9.9999999e-09],\n",
       "         [3.2673937e-01],\n",
       "         [5.6321454e-01],\n",
       "         [8.6996198e-02],\n",
       "         [9.9999999e-09],\n",
       "         [1.5102233e-01],\n",
       "         [4.6228848e-02],\n",
       "         [6.6221736e-02]], dtype=float32),\n",
       "  array([[-3.439401  ,  0.01942813]], dtype=float32)],\n",
       " 'code': array([[8.02611  , 7.731045 , 7.625682 , ..., 8.419071 , 7.6185927,\n",
       "         7.818041 ]], dtype=float32),\n",
       " 'Training_AUC': 0.5104716520516639,\n",
       " 'Training_ACC': 0.7521276078393231,\n",
       " 'Relative_reconstruction_loss (training)': 0.08165966135602176,\n",
       " 'Classification_loss (training)': 3215.5720176782534,\n",
       " 'Y_test': array([0, 0, 0, ..., 0, 0, 0]),\n",
       " 'P_pred': array([0.03630836, 0.03591241, 0.03586789, ..., 0.03680653, 0.03623516,\n",
       "        0.03600213], dtype=float32),\n",
       " 'Y_pred': array([0, 0, 0, ..., 1, 0, 0], dtype=int32),\n",
       " 'AUC': 0.49368158882882834,\n",
       " 'Opt_threshold': 0.036419515,\n",
       " 'Accuracy': 0.8136549309472865,\n",
       " 'Misclassification': 0.18634506905271353,\n",
       " 'Precision': 0.03744103773584906,\n",
       " 'Recall': 0.1829971181556196,\n",
       " 'Sensitivity': 0.1829971181556196,\n",
       " 'Specificity': 0.8356819325616507,\n",
       " 'F_score': 0.06216348507097406,\n",
       " 'Fall_out': 0.16431806743834926,\n",
       " 'Miss_rate': 0.8170028818443804}"
      ]
     },
     "execution_count": 3,
     "metadata": {},
     "output_type": "execute_result"
    }
   ],
   "source": [
    "from sklearn.model_selection import train_test_split\n",
    "import numpy as np\n",
    "import torch\n",
    "from torch.autograd import Variable\n",
    "from src.supervised_NDL.SMF_BCD import SDL_BCD\n",
    "from src.supervised_NDL.SMF_torch import smf\n",
    "\n",
    "k= 1\n",
    "\n",
    "# X , y = sampling_graph_classification(dataset = dataset_ppa, k = k, sample_size=1, \n",
    "#                                           has_edge_feature=True)\n",
    "\n",
    "X , y = sampling_graph_classification(dataset = dataset_molhiv, k = k, sample_size=1, \n",
    "                                          has_edge_feature=True, has_node_feature=True)\n",
    "\n",
    "Accuracy = []\n",
    "test_size = 0.5\n",
    "\n",
    "X_train, X_test, Y_train, Y_test = train_test_split(X.T, y.T, test_size=test_size, random_state=2)\n",
    "# print(X_train.shape)\n",
    "# print(Y_train.shape)\n",
    "\n",
    "X_train = Variable(torch.from_numpy(X_train)).float()\n",
    "y_train = Variable(torch.from_numpy(Y_train)).long()\n",
    "X_test = Variable(torch.from_numpy(X_test)).float()\n",
    "y_test = Variable(torch.from_numpy(Y_test)).long()\n",
    "# print(f\"y_train's ndim: {y_train.ndim}\")\n",
    "# print(f\"y_test: {y_test.shape}\")\n",
    "\n",
    "smf_model = smf(X_train, y_train, hidden_size=k, device='cuda')\n",
    "smf_model.fit(num_epochs=100,\n",
    "               lr_classification=0.01,\n",
    "               lr_matrix_factorization=0.01,\n",
    "               xi=1,\n",
    "               initialize='spectral',\n",
    "               W_nonnegativity=True,\n",
    "               H_nonnegativity=True,\n",
    "               test_data=[X_test, y_test],\n",
    "               record_recons_error=True)"
   ]
  },
  {
   "cell_type": "code",
   "execution_count": 4,
   "metadata": {},
   "outputs": [
    {
     "name": "stdout",
     "output_type": "stream",
     "text": [
      "(13, 41127)\n",
      "(1, 41127)\n"
     ]
    }
   ],
   "source": [
    "print(X.shape)\n",
    "print(y.shape)"
   ]
  }
 ],
 "metadata": {
  "kernelspec": {
   "display_name": "REU2024",
   "language": "python",
   "name": "python3"
  },
  "language_info": {
   "codemirror_mode": {
    "name": "ipython",
    "version": 3
   },
   "file_extension": ".py",
   "mimetype": "text/x-python",
   "name": "python",
   "nbconvert_exporter": "python",
   "pygments_lexer": "ipython3",
   "version": "3.12.4"
  }
 },
 "nbformat": 4,
 "nbformat_minor": 2
}
