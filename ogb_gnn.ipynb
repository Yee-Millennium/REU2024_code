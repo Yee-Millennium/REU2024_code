{
 "cells": [
  {
   "cell_type": "code",
   "execution_count": 1,
   "metadata": {},
   "outputs": [],
   "source": [
    "from ogb.graphproppred.dataset_pyg import PygGraphPropPredDataset"
   ]
  },
  {
   "cell_type": "code",
   "execution_count": null,
   "metadata": {},
   "outputs": [],
   "source": [
    "# Download and process data at './dataset/'\n",
    "dataset_molhiv = PygGraphPropPredDataset(name = 'ogbg-molhiv')\n",
    "\n",
    "dataset_molpcba = PygGraphPropPredDataset(name = 'ogbg-molpcba')"
   ]
  },
  {
   "cell_type": "code",
   "execution_count": 2,
   "metadata": {},
   "outputs": [],
   "source": [
    "dataset_ppa = PygGraphPropPredDataset(name = 'ogbg-ppa')"
   ]
  },
  {
   "cell_type": "code",
   "execution_count": null,
   "metadata": {},
   "outputs": [
    {
     "name": "stdout",
     "output_type": "stream",
     "text": [
      "num of labels in molhiv: 2\n",
      "num of features of nodes in molhiv: 9\n",
      "num of features of edges in molhiv: 3\n",
      "num of labels in molpcba: 2\n",
      "num of features of nodes in molpcba: 9\n",
      "num of features of edges in molpcba: 3\n",
      "num of labels in molppa: 37\n",
      "num of features of nodes in molppa: 0\n",
      "num of features of edges in molppa: 7\n"
     ]
    }
   ],
   "source": [
    "print(f\"num of labels in molhiv: {dataset_molhiv.num_classes}\")\n",
    "print(f\"num of features of nodes in molhiv: {dataset_molhiv.num_node_features}\")\n",
    "print(f\"num of features of edges in molhiv: {dataset_molhiv.num_edge_features}\")\n",
    "\n",
    "print(f\"num of labels in molpcba: {dataset_molpcba.num_classes}\")\n",
    "print(f\"num of features of nodes in molpcba: {dataset_molpcba.num_node_features}\")\n",
    "print(f\"num of features of edges in molpcba: {dataset_molpcba.num_edge_features}\")\n",
    "\n",
    "print(f\"num of labels in molppa: {dataset_ppa.num_classes}\")\n",
    "print(f\"num of features of nodes in molppa: {dataset_ppa.num_node_features}\")\n",
    "print(f\"num of features of edges in molppa: {dataset_ppa.num_edge_features}\")"
   ]
  },
  {
   "cell_type": "code",
   "execution_count": null,
   "metadata": {},
   "outputs": [
    {
     "name": "stderr",
     "output_type": "stream",
     "text": [
      "100%|██████████| 41127/41127 [00:02<00:00, 16828.15it/s]\n",
      "100%|██████████| 437929/437929 [00:20<00:00, 20878.54it/s]\n",
      "100%|██████████| 158100/158100 [00:06<00:00, 23513.13it/s]\n"
     ]
    },
    {
     "data": {
      "text/plain": [
       "PygGraphPropPredDataset (#graphs=158100):\n",
       "+------------+----------+----------+\n",
       "|            |   #nodes |   #edges |\n",
       "|------------+----------+----------|\n",
       "| mean       |    243.4 |   4532.2 |\n",
       "| std        |     85.4 |   2615.3 |\n",
       "| min        |     50   |    108   |\n",
       "| quantile25 |    182   |   2960   |\n",
       "| median     |    300   |   4274   |\n",
       "| quantile75 |    300   |   5716   |\n",
       "| max        |    300   |  36138   |\n",
       "+------------+----------+----------+"
      ]
     },
     "execution_count": 8,
     "metadata": {},
     "output_type": "execute_result"
    }
   ],
   "source": [
    "dataset_molhiv.get_summary()\n",
    "dataset_molpcba.get_summary()\n",
    "dataset_ppa.get_summary()"
   ]
  },
  {
   "cell_type": "code",
   "execution_count": 4,
   "metadata": {},
   "outputs": [
    {
     "name": "stdout",
     "output_type": "stream",
     "text": [
      "example data of dataset_molhiv: Data(edge_index=[2, 40], edge_attr=[40, 3], x=[19, 9], y=[1, 1], num_nodes=19)\n",
      "example data of dataset_molpca: Data(edge_index=[2, 44], edge_attr=[44, 3], x=[20, 9], y=[1, 128], num_nodes=20)\n",
      "example data of dataset_ppa: Data(edge_index=[2, 4408], edge_attr=[4408, 7], y=[1, 1], num_nodes=300)\n"
     ]
    }
   ],
   "source": [
    "print(f\"example data of dataset_molhiv: {dataset_molhiv[0]}\")\n",
    "print(f\"example data of dataset_molpca: {dataset_molpcba[0]}\")\n",
    "print(f\"example data of dataset_ppa: {dataset_ppa[0]}\")"
   ]
  },
  {
   "cell_type": "code",
   "execution_count": 5,
   "metadata": {},
   "outputs": [
    {
     "name": "stdout",
     "output_type": "stream",
     "text": [
      "example data of dataset_ppa: tensor([[1]])\n"
     ]
    }
   ],
   "source": [
    "print(f\"example data of dataset_ppa: {dataset_ppa[700].y}\")"
   ]
  },
  {
   "cell_type": "code",
   "execution_count": 2,
   "metadata": {},
   "outputs": [],
   "source": [
    "from src.sampling.Sampling import sampling_graph_classification"
   ]
  },
  {
   "cell_type": "code",
   "execution_count": 4,
   "metadata": {},
   "outputs": [
    {
     "name": "stdout",
     "output_type": "stream",
     "text": [
      "example data of dataset_ppa: Data(edge_index=[2, 6944], edge_attr=[6944, 7], y=[1, 1], num_nodes=300)\n"
     ]
    }
   ],
   "source": [
    "print(f\"example data of dataset_ppa: {dataset_ppa[144]}\")"
   ]
  },
  {
   "cell_type": "code",
   "execution_count": 3,
   "metadata": {},
   "outputs": [
    {
     "name": "stderr",
     "output_type": "stream",
     "text": [
      "python(29137) MallocStackLogging: can't turn off malloc stack logging because it was not enabled.\n",
      "  0%|          | 375/158100 [05:36<39:18:19,  1.11it/s] \n"
     ]
    },
    {
     "ename": "KeyboardInterrupt",
     "evalue": "",
     "output_type": "error",
     "traceback": [
      "\u001b[0;31m---------------------------------------------------------------------------\u001b[0m",
      "\u001b[0;31mKeyboardInterrupt\u001b[0m                         Traceback (most recent call last)",
      "Cell \u001b[0;32mIn[3], line 24\u001b[0m\n\u001b[1;32m     21\u001b[0m k \u001b[38;5;241m=\u001b[39m \u001b[38;5;241m20\u001b[39m\n\u001b[1;32m     22\u001b[0m sample_size\u001b[38;5;241m=\u001b[39m\u001b[38;5;241m5\u001b[39m\n\u001b[0;32m---> 24\u001b[0m X , y \u001b[38;5;241m=\u001b[39m \u001b[43msampling_graph_classification\u001b[49m\u001b[43m(\u001b[49m\u001b[43mdataset\u001b[49m\u001b[43m \u001b[49m\u001b[38;5;241;43m=\u001b[39;49m\u001b[43m \u001b[49m\u001b[43mdataset_ppa\u001b[49m\u001b[43m,\u001b[49m\u001b[43m \u001b[49m\u001b[43mk\u001b[49m\u001b[43m \u001b[49m\u001b[38;5;241;43m=\u001b[39;49m\u001b[43m \u001b[49m\u001b[43mk\u001b[49m\u001b[43m,\u001b[49m\u001b[43m \u001b[49m\u001b[43msample_size\u001b[49m\u001b[38;5;241;43m=\u001b[39;49m\u001b[43msample_size\u001b[49m\u001b[43m,\u001b[49m\u001b[43m \u001b[49m\u001b[38;5;66;43;03m# 1, 5\u001b[39;49;00m\n\u001b[1;32m     25\u001b[0m \u001b[43m                                          \u001b[49m\u001b[43mhas_edge_feature\u001b[49m\u001b[38;5;241;43m=\u001b[39;49m\u001b[38;5;28;43;01mTrue\u001b[39;49;00m\u001b[43m,\u001b[49m\u001b[43m \u001b[49m\u001b[43mskip_folded_hom\u001b[49m\u001b[38;5;241;43m=\u001b[39;49m\u001b[38;5;28;43;01mTrue\u001b[39;49;00m\u001b[43m,\u001b[49m\n\u001b[1;32m     26\u001b[0m \u001b[43m                                          \u001b[49m\u001b[43minfo_print\u001b[49m\u001b[38;5;241;43m=\u001b[39;49m\u001b[38;5;28;43;01mFalse\u001b[39;49;00m\u001b[43m)\u001b[49m\n\u001b[1;32m     28\u001b[0m Accuracy \u001b[38;5;241m=\u001b[39m []\n\u001b[1;32m     29\u001b[0m test_size \u001b[38;5;241m=\u001b[39m \u001b[38;5;241m0.3\u001b[39m\n",
      "File \u001b[0;32m~/Research/REU_2024/REU2024_code/src/sampling/Sampling.py:104\u001b[0m, in \u001b[0;36msampling_graph_classification\u001b[0;34m(dataset, sample_size, k, has_node_feature, has_edge_feature, sampling_alg, skip_folded_hom, info_print)\u001b[0m\n\u001b[1;32m     99\u001b[0m G\u001b[38;5;241m.\u001b[39madd_edges(edges)\n\u001b[1;32m    101\u001b[0m \u001b[38;5;66;03m# print(f\"!!! edge_index: {edge_index}\")\u001b[39;00m\n\u001b[1;32m    102\u001b[0m \u001b[38;5;66;03m# np.savetxt(\"edge_index.txt\", edge_index, fmt='%d')\u001b[39;00m\n\u001b[0;32m--> 104\u001b[0m X, emb \u001b[38;5;241m=\u001b[39m \u001b[43mG\u001b[49m\u001b[38;5;241;43m.\u001b[39;49m\u001b[43mget_patches\u001b[49m\u001b[43m(\u001b[49m\u001b[43mk\u001b[49m\u001b[38;5;241;43m=\u001b[39;49m\u001b[43mk\u001b[49m\u001b[43m,\u001b[49m\u001b[43m \u001b[49m\u001b[43msample_size\u001b[49m\u001b[38;5;241;43m=\u001b[39;49m\u001b[43msample_size\u001b[49m\u001b[43m,\u001b[49m\u001b[43m \u001b[49m\n\u001b[1;32m    105\u001b[0m \u001b[43m                       \u001b[49m\u001b[43msampling_alg\u001b[49m\u001b[38;5;241;43m=\u001b[39;49m\u001b[43msampling_alg\u001b[49m\u001b[43m,\u001b[49m\u001b[43m \u001b[49m\n\u001b[1;32m    106\u001b[0m \u001b[43m                       \u001b[49m\u001b[43mskip_folded_hom\u001b[49m\u001b[38;5;241;43m=\u001b[39;49m\u001b[43mskip_folded_hom\u001b[49m\u001b[43m,\u001b[49m\n\u001b[1;32m    107\u001b[0m \u001b[43m                       \u001b[49m\u001b[43minfo_print\u001b[49m\u001b[38;5;241;43m=\u001b[39;49m\u001b[43minfo_print\u001b[49m\u001b[43m)\u001b[49m\n\u001b[1;32m    108\u001b[0m emb \u001b[38;5;241m=\u001b[39m np\u001b[38;5;241m.\u001b[39masarray(emb)\u001b[38;5;241m.\u001b[39mastype(\u001b[38;5;28mint\u001b[39m)\n\u001b[1;32m    109\u001b[0m \u001b[38;5;66;03m# np.savetxt(\"emb.txt\", emb, fmt='%d')\u001b[39;00m\n\u001b[1;32m    110\u001b[0m \u001b[38;5;66;03m# np.savetxt(\"X.txt\", X, fmt='%d')\u001b[39;00m\n",
      "File \u001b[0;32m~/Research/REU_2024/REU2024_code/NNetwork_modified/NNetwork_modified.py:666\u001b[0m, in \u001b[0;36mNNetwork.get_patches\u001b[0;34m(self, k, emb, sample_size, skip_folded_hom, sampling_alg, info_print)\u001b[0m\n\u001b[1;32m    664\u001b[0m count \u001b[38;5;241m=\u001b[39m \u001b[38;5;241m0\u001b[39m\n\u001b[1;32m    665\u001b[0m \u001b[38;5;28;01mwhile\u001b[39;00m (num_hom_sampled \u001b[38;5;241m<\u001b[39m sample_size) \u001b[38;5;129;01mand\u001b[39;00m (count \u001b[38;5;241m<\u001b[39m \u001b[38;5;241m20000\u001b[39m \u001b[38;5;241m*\u001b[39m sample_size):\n\u001b[0;32m--> 666\u001b[0m     emb \u001b[38;5;241m=\u001b[39m \u001b[38;5;28;43mself\u001b[39;49m\u001b[38;5;241;43m.\u001b[39;49m\u001b[43mupdate_emb\u001b[49m\u001b[43m(\u001b[49m\u001b[43memb\u001b[49m\u001b[43m,\u001b[49m\n\u001b[1;32m    667\u001b[0m \u001b[43m                        \u001b[49m\u001b[43miterations\u001b[49m\u001b[38;5;241;43m=\u001b[39;49m\u001b[38;5;241;43m1\u001b[39;49m\u001b[43m,\u001b[49m\n\u001b[1;32m    668\u001b[0m \u001b[43m                        \u001b[49m\u001b[43msampling_alg\u001b[49m\u001b[38;5;241;43m=\u001b[39;49m\u001b[43msampling_alg\u001b[49m\u001b[43m)\u001b[49m\n\u001b[1;32m    669\u001b[0m     Y \u001b[38;5;241m=\u001b[39m \u001b[38;5;28mself\u001b[39m\u001b[38;5;241m.\u001b[39memb2adj(emb)\n\u001b[1;32m    671\u001b[0m     \u001b[38;5;28;01mif\u001b[39;00m \u001b[38;5;129;01mnot\u001b[39;00m (skip_folded_hom \u001b[38;5;129;01mand\u001b[39;00m \u001b[38;5;28mlen\u001b[39m(\u001b[38;5;28mset\u001b[39m(emb))\u001b[38;5;241m<\u001b[39mk):\n\u001b[1;32m    672\u001b[0m         \u001b[38;5;66;03m# skip adding the sampled patch if the nodes are not distinct\u001b[39;00m\n",
      "File \u001b[0;32m~/Research/REU_2024/REU2024_code/NNetwork_modified/NNetwork_modified.py:619\u001b[0m, in \u001b[0;36mNNetwork.update_emb\u001b[0;34m(self, emb, iterations, sampling_alg, omit_folded_edges)\u001b[0m\n\u001b[1;32m    617\u001b[0m     emb \u001b[38;5;241m=\u001b[39m \u001b[38;5;28mself\u001b[39m\u001b[38;5;241m.\u001b[39mglauber_update(B, emb)\n\u001b[1;32m    618\u001b[0m \u001b[38;5;28;01melif\u001b[39;00m sampling_alg \u001b[38;5;241m==\u001b[39m \u001b[38;5;124m'\u001b[39m\u001b[38;5;124mpivot\u001b[39m\u001b[38;5;124m'\u001b[39m:\n\u001b[0;32m--> 619\u001b[0m     emb \u001b[38;5;241m=\u001b[39m \u001b[38;5;28;43mself\u001b[39;49m\u001b[38;5;241;43m.\u001b[39;49m\u001b[43mPivot_update\u001b[49m\u001b[43m(\u001b[49m\u001b[43memb\u001b[49m\u001b[43m,\u001b[49m\u001b[43m \u001b[49m\u001b[43mif_inj\u001b[49m\u001b[43m \u001b[49m\u001b[38;5;241;43m=\u001b[39;49m\u001b[43m \u001b[49m\u001b[38;5;28;43;01mFalse\u001b[39;49;00m\u001b[43m)\u001b[49m\n\u001b[1;32m    620\u001b[0m \u001b[38;5;28;01melif\u001b[39;00m sampling_alg \u001b[38;5;241m==\u001b[39m \u001b[38;5;124m'\u001b[39m\u001b[38;5;124midla\u001b[39m\u001b[38;5;124m'\u001b[39m:\n\u001b[1;32m    621\u001b[0m     \u001b[38;5;66;03m# IDLA sampling: centered around a uniformly chosen node, sample\u001b[39;00m\n\u001b[1;32m    622\u001b[0m     \u001b[38;5;66;03m# a k-node subgraph (no repeated nodes)\u001b[39;00m\n\u001b[1;32m    623\u001b[0m     H \u001b[38;5;241m=\u001b[39m \u001b[38;5;28;01mNone\u001b[39;00m\n",
      "File \u001b[0;32m~/Research/REU_2024/REU2024_code/NNetwork_modified/NNetwork_modified.py:598\u001b[0m, in \u001b[0;36mNNetwork.Pivot_update\u001b[0;34m(self, emb, if_inj, Pivot_exact_MH_rule)\u001b[0m\n\u001b[1;32m    596\u001b[0m \u001b[38;5;66;03m#  emb_new = self.Path_sample_gen_position(x0, k1, k2)  # new path embedding\u001b[39;00m\n\u001b[1;32m    597\u001b[0m \u001b[38;5;28;01mif\u001b[39;00m \u001b[38;5;129;01mnot\u001b[39;00m if_inj:\n\u001b[0;32m--> 598\u001b[0m     emb_new \u001b[38;5;241m=\u001b[39m \u001b[38;5;28;43mself\u001b[39;49m\u001b[38;5;241;43m.\u001b[39;49m\u001b[43mtree_sample\u001b[49m\u001b[43m(\u001b[49m\u001b[43mB\u001b[49m\u001b[43m,\u001b[49m\u001b[43m \u001b[49m\u001b[43mx0\u001b[49m\u001b[43m)\u001b[49m  \u001b[38;5;66;03m# new path embedding\u001b[39;00m\n\u001b[1;32m    599\u001b[0m \u001b[38;5;28;01melse\u001b[39;00m: \u001b[38;5;66;03m# sample subsequent nodes until one collects k distinct nodes\u001b[39;00m\n\u001b[1;32m    600\u001b[0m     H \u001b[38;5;241m=\u001b[39m \u001b[38;5;28;01mNone\u001b[39;00m\n",
      "File \u001b[0;32m~/Research/REU_2024/REU2024_code/NNetwork_modified/NNetwork_modified.py:492\u001b[0m, in \u001b[0;36mNNetwork.tree_sample\u001b[0;34m(self, B, x)\u001b[0m\n\u001b[1;32m    490\u001b[0m \u001b[38;5;28;01mfor\u001b[39;00m i \u001b[38;5;129;01min\u001b[39;00m np\u001b[38;5;241m.\u001b[39marange(\u001b[38;5;241m1\u001b[39m, k):\n\u001b[1;32m    491\u001b[0m     j \u001b[38;5;241m=\u001b[39m \u001b[38;5;28mself\u001b[39m\u001b[38;5;241m.\u001b[39mfind_parent(B, i)\n\u001b[0;32m--> 492\u001b[0m     nbs_j \u001b[38;5;241m=\u001b[39m \u001b[43mnp\u001b[49m\u001b[38;5;241;43m.\u001b[39;49m\u001b[43masarray\u001b[49m\u001b[43m(\u001b[49m\u001b[38;5;28;43mlist\u001b[39;49m\u001b[43m(\u001b[49m\u001b[38;5;28;43mself\u001b[39;49m\u001b[38;5;241;43m.\u001b[39;49m\u001b[43mneighbors\u001b[49m\u001b[43m(\u001b[49m\u001b[43memb\u001b[49m\u001b[43m[\u001b[49m\u001b[43mj\u001b[49m\u001b[43m]\u001b[49m\u001b[43m)\u001b[49m\u001b[43m)\u001b[49m\u001b[43m)\u001b[49m\n\u001b[1;32m    493\u001b[0m     \u001b[38;5;28;01mif\u001b[39;00m \u001b[38;5;28mlen\u001b[39m(nbs_j) \u001b[38;5;241m>\u001b[39m \u001b[38;5;241m0\u001b[39m:\n\u001b[1;32m    494\u001b[0m         y \u001b[38;5;241m=\u001b[39m np\u001b[38;5;241m.\u001b[39mrandom\u001b[38;5;241m.\u001b[39mchoice(nbs_j)\n",
      "\u001b[0;31mKeyboardInterrupt\u001b[0m: "
     ]
    }
   ],
   "source": [
    "from ogb.graphproppred.dataset_pyg import PygGraphPropPredDataset\n",
    "from sklearn.model_selection import train_test_split\n",
    "import numpy as np\n",
    "import torch\n",
    "from torch.autograd import Variable\n",
    "import pickle\n",
    "\n",
    "\n",
    "import sys\n",
    "\n",
    "sys.path.append('/Users/yee/Research/REU_2024/REU2024_code/src/sampling')\n",
    "from Sampling import sampling_graph_classification\n",
    "\n",
    "sys.path.append('/Users/yee/Research/REU_2024/REU2024_code/src/supervised_NDL')\n",
    "from SMF_torch import smf\n",
    "\n",
    "sys.path.append('/Users/yee/Research/REU_2024/REU2024_code/util')\n",
    "from plotting import *\n",
    "\n",
    "### Before doing experiments, modify k(hidden_size), sample_size, and num_epochs\n",
    "k = 20\n",
    "sample_size=5\n",
    "\n",
    "X , y = sampling_graph_classification(dataset = dataset_ppa, k = k, sample_size=sample_size, # 1, 5\n",
    "                                          has_edge_feature=True, skip_folded_hom=True,\n",
    "                                          info_print=False)\n",
    "\n",
    "Accuracy = []\n",
    "test_size = 0.3\n",
    "\n",
    "X_train, X_test, Y_train, Y_test = train_test_split(X.T, y.T, test_size=test_size, random_state=2)\n",
    "# print(X_train.shape)\n",
    "# print(Y_train.shape)\n",
    "\n",
    "X_train = Variable(torch.from_numpy(X_train)).float()\n",
    "y_train = Variable(torch.from_numpy(Y_train)).long()\n",
    "X_test = Variable(torch.from_numpy(X_test)).float()\n",
    "y_test = Variable(torch.from_numpy(Y_test)).long()\n",
    "# print(f\"y_train's ndim: {y_train.ndim}\")\n",
    "# print(f\"y_test: {y_test.shape}\")\n",
    "\n",
    "smf_model = smf(X_train, y_train, hidden_size=k, device='cuda')\n",
    "results_dict = smf_model.fit(num_epochs=200,\n",
    "               lr_classification=0.01,\n",
    "               lr_matrix_factorization=0.01,\n",
    "               xi=5,\n",
    "               initialize='spectral',\n",
    "               W_nonnegativity=True,\n",
    "               H_nonnegativity=True,\n",
    "               test_data=[X_test, y_test],\n",
    "               record_recons_error=False)\n",
    "\n",
    "W = results_dict.get('loading')[0]\n",
    "beta= results_dict.get('loading')[1]\n",
    "H = results_dict.get('code')\n",
    "\n",
    "display_dict_and_graph(save_path=\n",
    "                       f'./ogbg_ppa', W=W[:k**2], regression_coeff=beta.T, \n",
    "                       fig_size=[15,15], plot_graph_only=True)\n",
    "\n",
    "### Save the result \n",
    "with open(f\"./results_dict_{k}_{sample_size}.pkl\", 'wb') as file:\n",
    "    pickle.dump(results_dict, file)"
   ]
  },
  {
   "cell_type": "code",
   "execution_count": 6,
   "metadata": {},
   "outputs": [
    {
     "data": {
      "image/png": "[encoded data removed]",
      "text/plain": [
       "<Figure size 1500x1500 with 2 Axes>"
      ]
     },
     "metadata": {},
     "output_type": "display_data"
    }
   ],
   "source": [
    "from util.plotting  import *\n",
    "\n",
    "display_dict_and_graph(save_path=f'output/figure/ogbg_ppa', W=W[:k**2], regression_coeff=beta.T, fig_size=[10,10], plot_graph_only=True)"
   ]
  }
 ],
 "metadata": {
  "kernelspec": {
   "display_name": "REU2024",
   "language": "python",
   "name": "python3"
  },
  "language_info": {
   "codemirror_mode": {
    "name": "ipython",
    "version": 3
   },
   "file_extension": ".py",
   "mimetype": "text/x-python",
   "name": "python",
   "nbconvert_exporter": "python",
   "pygments_lexer": "ipython3",
   "version": "3.12.4"
  }
 },
 "nbformat": 4,
 "nbformat_minor": 2
}
