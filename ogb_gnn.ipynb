{
 "cells": [
  {
   "cell_type": "code",
   "execution_count": 1,
   "metadata": {},
   "outputs": [],
   "source": [
    "from ogb.graphproppred.dataset_pyg import PygGraphPropPredDataset\n",
    "\n",
    "# Download and process data at './dataset/'\n",
    "dataset_molhiv = PygGraphPropPredDataset(name = 'ogbg-molhiv')\n",
    "\n",
    "dataset_molpcba = PygGraphPropPredDataset(name = 'ogbg-molpcba')\n",
    "\n",
    "dataset_ppa = PygGraphPropPredDataset(name = 'ogbg-ppa')"
   ]
  },
  {
   "cell_type": "code",
   "execution_count": null,
   "metadata": {},
   "outputs": [
    {
     "name": "stdout",
     "output_type": "stream",
     "text": [
      "num of labels in molhiv: 2\n",
      "num of features of nodes in molhiv: 9\n",
      "num of features of edges in molhiv: 3\n",
      "num of labels in molpcba: 2\n",
      "num of features of nodes in molpcba: 9\n",
      "num of features of edges in molpcba: 3\n",
      "num of labels in molppa: 37\n",
      "num of features of nodes in molppa: 0\n",
      "num of features of edges in molppa: 7\n"
     ]
    }
   ],
   "source": [
    "print(f\"num of labels in molhiv: {dataset_molhiv.num_classes}\")\n",
    "print(f\"num of features of nodes in molhiv: {dataset_molhiv.num_node_features}\")\n",
    "print(f\"num of features of edges in molhiv: {dataset_molhiv.num_edge_features}\")\n",
    "\n",
    "print(f\"num of labels in molpcba: {dataset_molpcba.num_classes}\")\n",
    "print(f\"num of features of nodes in molpcba: {dataset_molpcba.num_node_features}\")\n",
    "print(f\"num of features of edges in molpcba: {dataset_molpcba.num_edge_features}\")\n",
    "\n",
    "print(f\"num of labels in molppa: {dataset_ppa.num_classes}\")\n",
    "print(f\"num of features of nodes in molppa: {dataset_ppa.num_node_features}\")\n",
    "print(f\"num of features of edges in molppa: {dataset_ppa.num_edge_features}\")"
   ]
  },
  {
   "cell_type": "code",
   "execution_count": null,
   "metadata": {},
   "outputs": [
    {
     "name": "stderr",
     "output_type": "stream",
     "text": [
      "100%|██████████| 41127/41127 [00:02<00:00, 16828.15it/s]\n",
      "100%|██████████| 437929/437929 [00:20<00:00, 20878.54it/s]\n",
      "100%|██████████| 158100/158100 [00:06<00:00, 23513.13it/s]\n"
     ]
    },
    {
     "data": {
      "text/plain": [
       "PygGraphPropPredDataset (#graphs=158100):\n",
       "+------------+----------+----------+\n",
       "|            |   #nodes |   #edges |\n",
       "|------------+----------+----------|\n",
       "| mean       |    243.4 |   4532.2 |\n",
       "| std        |     85.4 |   2615.3 |\n",
       "| min        |     50   |    108   |\n",
       "| quantile25 |    182   |   2960   |\n",
       "| median     |    300   |   4274   |\n",
       "| quantile75 |    300   |   5716   |\n",
       "| max        |    300   |  36138   |\n",
       "+------------+----------+----------+"
      ]
     },
     "execution_count": 8,
     "metadata": {},
     "output_type": "execute_result"
    }
   ],
   "source": [
    "dataset_molhiv.get_summary()\n",
    "dataset_molpcba.get_summary()\n",
    "dataset_ppa.get_summary()"
   ]
  },
  {
   "cell_type": "code",
   "execution_count": 4,
   "metadata": {},
   "outputs": [
    {
     "name": "stdout",
     "output_type": "stream",
     "text": [
      "example data of dataset_molhiv: Data(edge_index=[2, 40], edge_attr=[40, 3], x=[19, 9], y=[1, 1], num_nodes=19)\n",
      "example data of dataset_molpca: Data(edge_index=[2, 44], edge_attr=[44, 3], x=[20, 9], y=[1, 128], num_nodes=20)\n",
      "example data of dataset_ppa: Data(edge_index=[2, 4408], edge_attr=[4408, 7], y=[1, 1], num_nodes=300)\n"
     ]
    }
   ],
   "source": [
    "print(f\"example data of dataset_molhiv: {dataset_molhiv[0]}\")\n",
    "print(f\"example data of dataset_molpca: {dataset_molpcba[0]}\")\n",
    "print(f\"example data of dataset_ppa: {dataset_ppa[0]}\")"
   ]
  },
  {
   "cell_type": "code",
   "execution_count": 5,
   "metadata": {},
   "outputs": [
    {
     "name": "stdout",
     "output_type": "stream",
     "text": [
      "example data of dataset_ppa: tensor([[1]])\n"
     ]
    }
   ],
   "source": [
    "print(f\"example data of dataset_ppa: {dataset_ppa[700].y}\")"
   ]
  },
  {
   "cell_type": "code",
   "execution_count": 2,
   "metadata": {},
   "outputs": [],
   "source": [
    "from src.sampling.Sampling import sampling_graph_classification"
   ]
  },
  {
   "cell_type": "code",
   "execution_count": 3,
   "metadata": {},
   "outputs": [
    {
     "name": "stderr",
     "output_type": "stream",
     "text": [
      "  0%|          | 0/158100 [00:00<?, ?it/s]"
     ]
    },
    {
     "name": "stdout",
     "output_type": "stream",
     "text": [
      "y_matrix.shape: (36, 10)\n"
     ]
    },
    {
     "name": "stderr",
     "output_type": "stream",
     "text": [
      "  0%|          | 1/158100 [00:00<11:54:44,  3.69it/s]"
     ]
    },
    {
     "name": "stdout",
     "output_type": "stream",
     "text": [
      "y_matrix.shape: (36, 10)\n"
     ]
    },
    {
     "name": "stderr",
     "output_type": "stream",
     "text": [
      "  0%|          | 2/158100 [00:00<18:42:47,  2.35it/s]"
     ]
    },
    {
     "name": "stdout",
     "output_type": "stream",
     "text": [
      "y_matrix.shape: (36, 10)\n"
     ]
    },
    {
     "name": "stderr",
     "output_type": "stream",
     "text": [
      "  0%|          | 3/158100 [00:01<16:44:29,  2.62it/s]"
     ]
    },
    {
     "name": "stdout",
     "output_type": "stream",
     "text": [
      "y_matrix.shape: (36, 10)\n"
     ]
    },
    {
     "name": "stderr",
     "output_type": "stream",
     "text": [
      "  0%|          | 4/158100 [00:01<22:40:30,  1.94it/s]"
     ]
    },
    {
     "name": "stdout",
     "output_type": "stream",
     "text": [
      "y_matrix.shape: (36, 10)\n"
     ]
    },
    {
     "name": "stderr",
     "output_type": "stream",
     "text": [
      "  0%|          | 5/158100 [00:02<18:19:58,  2.40it/s]"
     ]
    },
    {
     "name": "stdout",
     "output_type": "stream",
     "text": [
      "y_matrix.shape: (36, 10)\n"
     ]
    },
    {
     "name": "stderr",
     "output_type": "stream",
     "text": [
      "  0%|          | 6/158100 [00:02<17:05:05,  2.57it/s]"
     ]
    },
    {
     "name": "stdout",
     "output_type": "stream",
     "text": [
      "y_matrix.shape: (36, 10)\n"
     ]
    },
    {
     "name": "stderr",
     "output_type": "stream",
     "text": [
      "  0%|          | 7/158100 [00:02<15:42:22,  2.80it/s]"
     ]
    },
    {
     "name": "stdout",
     "output_type": "stream",
     "text": [
      "y_matrix.shape: (36, 10)\n"
     ]
    },
    {
     "name": "stderr",
     "output_type": "stream",
     "text": [
      "  0%|          | 8/158100 [00:03<20:06:45,  2.18it/s]"
     ]
    },
    {
     "name": "stdout",
     "output_type": "stream",
     "text": [
      "y_matrix.shape: (36, 10)\n"
     ]
    },
    {
     "name": "stderr",
     "output_type": "stream",
     "text": [
      "  0%|          | 9/158100 [00:03<17:27:57,  2.51it/s]"
     ]
    },
    {
     "name": "stdout",
     "output_type": "stream",
     "text": [
      "y_matrix.shape: (36, 10)\n"
     ]
    },
    {
     "name": "stderr",
     "output_type": "stream",
     "text": [
      "  0%|          | 11/158100 [00:04<13:27:04,  3.26it/s]"
     ]
    },
    {
     "name": "stdout",
     "output_type": "stream",
     "text": [
      "y_matrix.shape: (36, 10)\n",
      "y_matrix.shape: (36, 10)\n"
     ]
    },
    {
     "name": "stderr",
     "output_type": "stream",
     "text": [
      "  0%|          | 13/158100 [00:04<12:44:35,  3.45it/s]"
     ]
    },
    {
     "name": "stdout",
     "output_type": "stream",
     "text": [
      "y_matrix.shape: (36, 10)\n",
      "y_matrix.shape: (36, 10)\n"
     ]
    },
    {
     "name": "stderr",
     "output_type": "stream",
     "text": [
      "  0%|          | 14/158100 [00:05<13:18:13,  3.30it/s]"
     ]
    },
    {
     "name": "stdout",
     "output_type": "stream",
     "text": [
      "y_matrix.shape: (36, 10)\n"
     ]
    },
    {
     "name": "stderr",
     "output_type": "stream",
     "text": [
      "  0%|          | 15/158100 [00:05<13:43:22,  3.20it/s]"
     ]
    },
    {
     "name": "stdout",
     "output_type": "stream",
     "text": [
      "y_matrix.shape: (36, 10)\n"
     ]
    },
    {
     "name": "stderr",
     "output_type": "stream",
     "text": [
      "  0%|          | 16/158100 [00:05<16:30:12,  2.66it/s]"
     ]
    },
    {
     "name": "stdout",
     "output_type": "stream",
     "text": [
      "y_matrix.shape: (36, 10)\n"
     ]
    },
    {
     "name": "stderr",
     "output_type": "stream",
     "text": [
      "  0%|          | 17/158100 [00:06<17:59:03,  2.44it/s]"
     ]
    },
    {
     "name": "stdout",
     "output_type": "stream",
     "text": [
      "y_matrix.shape: (36, 10)\n"
     ]
    },
    {
     "name": "stderr",
     "output_type": "stream",
     "text": [
      "  0%|          | 18/158100 [00:06<18:07:15,  2.42it/s]"
     ]
    },
    {
     "name": "stdout",
     "output_type": "stream",
     "text": [
      "y_matrix.shape: (36, 10)\n"
     ]
    },
    {
     "name": "stderr",
     "output_type": "stream",
     "text": [
      "  0%|          | 19/158100 [00:07<16:53:09,  2.60it/s]"
     ]
    },
    {
     "name": "stdout",
     "output_type": "stream",
     "text": [
      "y_matrix.shape: (36, 10)\n"
     ]
    },
    {
     "name": "stderr",
     "output_type": "stream",
     "text": [
      "  0%|          | 21/158100 [00:07<13:39:53,  3.21it/s]"
     ]
    },
    {
     "name": "stdout",
     "output_type": "stream",
     "text": [
      "y_matrix.shape: (36, 10)\n"
     ]
    },
    {
     "name": "stderr",
     "output_type": "stream",
     "text": [
      "  0%|          | 22/158100 [00:07<12:06:56,  3.62it/s]"
     ]
    },
    {
     "name": "stdout",
     "output_type": "stream",
     "text": [
      "y_matrix.shape: (36, 10)\n",
      "y_matrix.shape: (36, 10)\n"
     ]
    },
    {
     "name": "stderr",
     "output_type": "stream",
     "text": [
      "  0%|          | 23/158100 [00:08<12:41:53,  3.46it/s]"
     ]
    },
    {
     "name": "stdout",
     "output_type": "stream",
     "text": [
      "y_matrix.shape: (36, 10)\n"
     ]
    },
    {
     "name": "stderr",
     "output_type": "stream",
     "text": [
      "  0%|          | 24/158100 [00:08<14:42:56,  2.98it/s]"
     ]
    },
    {
     "name": "stdout",
     "output_type": "stream",
     "text": [
      "y_matrix.shape: (36, 10)\n"
     ]
    },
    {
     "name": "stderr",
     "output_type": "stream",
     "text": [
      "  0%|          | 25/158100 [00:08<14:46:46,  2.97it/s]"
     ]
    },
    {
     "name": "stdout",
     "output_type": "stream",
     "text": [
      "y_matrix.shape: (36, 10)\n"
     ]
    },
    {
     "name": "stderr",
     "output_type": "stream",
     "text": [
      "  0%|          | 26/158100 [00:09<17:13:06,  2.55it/s]"
     ]
    },
    {
     "name": "stdout",
     "output_type": "stream",
     "text": [
      "y_matrix.shape: (36, 10)\n"
     ]
    },
    {
     "name": "stderr",
     "output_type": "stream",
     "text": [
      "  0%|          | 27/158100 [00:09<17:43:28,  2.48it/s]"
     ]
    },
    {
     "name": "stdout",
     "output_type": "stream",
     "text": [
      "y_matrix.shape: (36, 10)\n"
     ]
    },
    {
     "name": "stderr",
     "output_type": "stream",
     "text": [
      "  0%|          | 28/158100 [00:10<17:12:49,  2.55it/s]"
     ]
    },
    {
     "name": "stdout",
     "output_type": "stream",
     "text": [
      "y_matrix.shape: (36, 10)\n"
     ]
    },
    {
     "name": "stderr",
     "output_type": "stream",
     "text": [
      "  0%|          | 29/158100 [00:10<16:12:43,  2.71it/s]"
     ]
    },
    {
     "name": "stdout",
     "output_type": "stream",
     "text": [
      "y_matrix.shape: (36, 10)\n"
     ]
    },
    {
     "name": "stderr",
     "output_type": "stream",
     "text": [
      "  0%|          | 30/158100 [00:10<14:36:32,  3.01it/s]"
     ]
    },
    {
     "name": "stdout",
     "output_type": "stream",
     "text": [
      "y_matrix.shape: (36, 10)\n"
     ]
    },
    {
     "name": "stderr",
     "output_type": "stream",
     "text": [
      "  0%|          | 31/158100 [00:11<17:54:16,  2.45it/s]"
     ]
    },
    {
     "name": "stdout",
     "output_type": "stream",
     "text": [
      "y_matrix.shape: (36, 10)\n"
     ]
    },
    {
     "name": "stderr",
     "output_type": "stream",
     "text": [
      "  0%|          | 32/158100 [00:12<25:18:00,  1.74it/s]"
     ]
    },
    {
     "name": "stdout",
     "output_type": "stream",
     "text": [
      "y_matrix.shape: (36, 10)\n"
     ]
    },
    {
     "name": "stderr",
     "output_type": "stream",
     "text": [
      "  0%|          | 33/158100 [00:13<27:10:07,  1.62it/s]"
     ]
    },
    {
     "name": "stdout",
     "output_type": "stream",
     "text": [
      "y_matrix.shape: (36, 10)\n"
     ]
    },
    {
     "name": "stderr",
     "output_type": "stream",
     "text": [
      "  0%|          | 34/158100 [00:13<23:32:07,  1.87it/s]"
     ]
    },
    {
     "name": "stdout",
     "output_type": "stream",
     "text": [
      "y_matrix.shape: (36, 10)\n"
     ]
    },
    {
     "name": "stderr",
     "output_type": "stream",
     "text": [
      "  0%|          | 35/158100 [00:13<22:16:55,  1.97it/s]"
     ]
    },
    {
     "name": "stdout",
     "output_type": "stream",
     "text": [
      "y_matrix.shape: (36, 10)\n"
     ]
    },
    {
     "name": "stderr",
     "output_type": "stream",
     "text": [
      "  0%|          | 36/158100 [00:14<19:21:23,  2.27it/s]"
     ]
    },
    {
     "name": "stdout",
     "output_type": "stream",
     "text": [
      "y_matrix.shape: (36, 10)\n"
     ]
    },
    {
     "name": "stderr",
     "output_type": "stream",
     "text": [
      "  0%|          | 37/158100 [00:14<20:15:42,  2.17it/s]"
     ]
    },
    {
     "name": "stdout",
     "output_type": "stream",
     "text": [
      "y_matrix.shape: (36, 10)\n"
     ]
    },
    {
     "name": "stderr",
     "output_type": "stream",
     "text": [
      "  0%|          | 38/158100 [00:15<26:11:13,  1.68it/s]"
     ]
    },
    {
     "name": "stdout",
     "output_type": "stream",
     "text": [
      "y_matrix.shape: (36, 10)\n"
     ]
    },
    {
     "name": "stderr",
     "output_type": "stream",
     "text": [
      "  0%|          | 39/158100 [00:15<22:07:47,  1.98it/s]"
     ]
    },
    {
     "name": "stdout",
     "output_type": "stream",
     "text": [
      "y_matrix.shape: (36, 10)\n"
     ]
    },
    {
     "name": "stderr",
     "output_type": "stream",
     "text": [
      "  0%|          | 40/158100 [00:16<19:51:30,  2.21it/s]"
     ]
    },
    {
     "name": "stdout",
     "output_type": "stream",
     "text": [
      "y_matrix.shape: (36, 10)\n"
     ]
    },
    {
     "name": "stderr",
     "output_type": "stream",
     "text": [
      "  0%|          | 41/158100 [00:16<18:55:18,  2.32it/s]"
     ]
    },
    {
     "name": "stdout",
     "output_type": "stream",
     "text": [
      "y_matrix.shape: (36, 10)\n"
     ]
    },
    {
     "name": "stderr",
     "output_type": "stream",
     "text": [
      "  0%|          | 42/158100 [00:17<20:48:03,  2.11it/s]"
     ]
    },
    {
     "name": "stdout",
     "output_type": "stream",
     "text": [
      "y_matrix.shape: (36, 10)\n"
     ]
    },
    {
     "name": "stderr",
     "output_type": "stream",
     "text": [
      "  0%|          | 43/158100 [00:17<19:08:55,  2.29it/s]"
     ]
    },
    {
     "name": "stdout",
     "output_type": "stream",
     "text": [
      "y_matrix.shape: (36, 10)\n"
     ]
    },
    {
     "name": "stderr",
     "output_type": "stream",
     "text": [
      "  0%|          | 44/158100 [00:17<19:44:26,  2.22it/s]"
     ]
    },
    {
     "name": "stdout",
     "output_type": "stream",
     "text": [
      "y_matrix.shape: (36, 10)\n"
     ]
    },
    {
     "name": "stderr",
     "output_type": "stream",
     "text": [
      "  0%|          | 45/158100 [00:18<17:56:42,  2.45it/s]"
     ]
    },
    {
     "name": "stdout",
     "output_type": "stream",
     "text": [
      "y_matrix.shape: (36, 10)\n"
     ]
    },
    {
     "name": "stderr",
     "output_type": "stream",
     "text": [
      "  0%|          | 46/158100 [00:18<16:05:51,  2.73it/s]"
     ]
    },
    {
     "name": "stdout",
     "output_type": "stream",
     "text": [
      "y_matrix.shape: (36, 10)\n"
     ]
    },
    {
     "name": "stderr",
     "output_type": "stream",
     "text": [
      "  0%|          | 47/158100 [00:18<16:05:54,  2.73it/s]"
     ]
    },
    {
     "name": "stdout",
     "output_type": "stream",
     "text": [
      "y_matrix.shape: (36, 10)\n"
     ]
    },
    {
     "name": "stderr",
     "output_type": "stream",
     "text": [
      "  0%|          | 48/158100 [00:19<15:27:46,  2.84it/s]"
     ]
    },
    {
     "name": "stdout",
     "output_type": "stream",
     "text": [
      "y_matrix.shape: (36, 10)\n"
     ]
    },
    {
     "name": "stderr",
     "output_type": "stream",
     "text": [
      "  0%|          | 48/158100 [00:19<17:51:20,  2.46it/s]\n"
     ]
    },
    {
     "ename": "KeyboardInterrupt",
     "evalue": "",
     "output_type": "error",
     "traceback": [
      "\u001b[0;31m---------------------------------------------------------------------------\u001b[0m",
      "\u001b[0;31mKeyboardInterrupt\u001b[0m                         Traceback (most recent call last)",
      "Cell \u001b[0;32mIn[3], line 11\u001b[0m\n\u001b[1;32m      8\u001b[0m \u001b[38;5;66;03m# k=20, n=5;\u001b[39;00m\n\u001b[1;32m      9\u001b[0m k\u001b[38;5;241m=\u001b[39m \u001b[38;5;241m15\u001b[39m\n\u001b[0;32m---> 11\u001b[0m X , y \u001b[38;5;241m=\u001b[39m \u001b[43msampling_graph_classification\u001b[49m\u001b[43m(\u001b[49m\u001b[43mdataset\u001b[49m\u001b[43m \u001b[49m\u001b[38;5;241;43m=\u001b[39;49m\u001b[43m \u001b[49m\u001b[43mdataset_ppa\u001b[49m\u001b[43m,\u001b[49m\u001b[43m \u001b[49m\u001b[43mk\u001b[49m\u001b[43m \u001b[49m\u001b[38;5;241;43m=\u001b[39;49m\u001b[43m \u001b[49m\u001b[43mk\u001b[49m\u001b[43m,\u001b[49m\u001b[43m \u001b[49m\u001b[43msample_size\u001b[49m\u001b[38;5;241;43m=\u001b[39;49m\u001b[38;5;241;43m10\u001b[39;49m\u001b[43m,\u001b[49m\u001b[43m \u001b[49m\n\u001b[1;32m     12\u001b[0m \u001b[43m                                          \u001b[49m\u001b[43mhas_edge_feature\u001b[49m\u001b[38;5;241;43m=\u001b[39;49m\u001b[38;5;28;43;01mTrue\u001b[39;49;00m\u001b[43m,\u001b[49m\u001b[43minfo_print\u001b[49m\u001b[38;5;241;43m=\u001b[39;49m\u001b[38;5;28;43;01mFalse\u001b[39;49;00m\u001b[43m,\u001b[49m\u001b[43mskip_folded_hom\u001b[49m\u001b[38;5;241;43m=\u001b[39;49m\u001b[38;5;28;43;01mTrue\u001b[39;49;00m\u001b[43m)\u001b[49m\n\u001b[1;32m     14\u001b[0m \u001b[38;5;66;03m# X , y = sampling_graph_classification(dataset = dataset_molhiv, k = k, sample_size=1, \u001b[39;00m\n\u001b[1;32m     15\u001b[0m \u001b[38;5;66;03m#                                           has_edge_feature=True, has_node_feature=True, info_print=False)\u001b[39;00m\n\u001b[1;32m     17\u001b[0m \u001b[38;5;28mprint\u001b[39m(\u001b[38;5;124mf\u001b[39m\u001b[38;5;124m\"\u001b[39m\u001b[38;5;124m!!! X\u001b[39m\u001b[38;5;124m'\u001b[39m\u001b[38;5;124ms shape: \u001b[39m\u001b[38;5;132;01m{\u001b[39;00mX\u001b[38;5;241m.\u001b[39mshape\u001b[38;5;132;01m}\u001b[39;00m\u001b[38;5;124m\"\u001b[39m)\n",
      "File \u001b[0;32m~/Research/REU_2024/REU2024_code/src/sampling/Sampling.py:140\u001b[0m, in \u001b[0;36msampling_graph_classification\u001b[0;34m(dataset, sample_size, k, has_node_feature, has_edge_feature, sampling_alg, skip_folded_hom, info_print)\u001b[0m\n\u001b[1;32m    136\u001b[0m \u001b[38;5;28;01mif\u001b[39;00m subgraph[i,j] \u001b[38;5;241m==\u001b[39m \u001b[38;5;241m1\u001b[39m:\n\u001b[1;32m    137\u001b[0m     \u001b[38;5;66;03m### find the corresponding nodes index by embedding\u001b[39;00m\n\u001b[1;32m    138\u001b[0m     edge \u001b[38;5;241m=\u001b[39m np\u001b[38;5;241m.\u001b[39marray([emb[l][i], emb[l][j]])\n\u001b[0;32m--> 140\u001b[0m     row_index \u001b[38;5;241m=\u001b[39m np\u001b[38;5;241m.\u001b[39mnonzero(\u001b[43mnp\u001b[49m\u001b[38;5;241;43m.\u001b[39;49m\u001b[43mall\u001b[49m\u001b[43m(\u001b[49m\u001b[43medges\u001b[49m\u001b[43m \u001b[49m\u001b[38;5;241;43m==\u001b[39;49m\u001b[43m \u001b[49m\u001b[43medge\u001b[49m\u001b[43m,\u001b[49m\u001b[43m \u001b[49m\u001b[43maxis\u001b[49m\u001b[38;5;241;43m=\u001b[39;49m\u001b[38;5;241;43m1\u001b[39;49m\u001b[43m)\u001b[49m)[\u001b[38;5;241m0\u001b[39m][\u001b[38;5;241m0\u001b[39m]\n\u001b[1;32m    142\u001b[0m     feature \u001b[38;5;241m=\u001b[39m graph\u001b[38;5;241m.\u001b[39medge_attr[row_index]\n\u001b[1;32m    143\u001b[0m     \u001b[38;5;66;03m# print(feature)\u001b[39;00m\n\u001b[1;32m    144\u001b[0m     \u001b[38;5;66;03m# print(f\"!!! {l}\")\u001b[39;00m\n\u001b[1;32m    145\u001b[0m     \u001b[38;5;66;03m# print(f\"!!! The shape of edge_feature: {edge_feature.shape}\")\u001b[39;00m\n",
      "File \u001b[0;32m~/miniforge3/envs/REU2024/lib/python3.12/site-packages/numpy/core/fromnumeric.py:2416\u001b[0m, in \u001b[0;36m_all_dispatcher\u001b[0;34m(a, axis, out, keepdims, where)\u001b[0m\n\u001b[1;32m   2324\u001b[0m \u001b[38;5;250m    \u001b[39m\u001b[38;5;124;03m\"\"\"\u001b[39;00m\n\u001b[1;32m   2325\u001b[0m \u001b[38;5;124;03m    Test whether any array element along a given axis evaluates to True.\u001b[39;00m\n\u001b[1;32m   2326\u001b[0m \n\u001b[0;32m   (...)\u001b[0m\n\u001b[1;32m   2410\u001b[0m \n\u001b[1;32m   2411\u001b[0m \u001b[38;5;124;03m    \"\"\"\u001b[39;00m\n\u001b[1;32m   2412\u001b[0m     \u001b[38;5;28;01mreturn\u001b[39;00m _wrapreduction(a, np\u001b[38;5;241m.\u001b[39mlogical_or, \u001b[38;5;124m'\u001b[39m\u001b[38;5;124many\u001b[39m\u001b[38;5;124m'\u001b[39m, axis, \u001b[38;5;28;01mNone\u001b[39;00m, out,\n\u001b[1;32m   2413\u001b[0m                           keepdims\u001b[38;5;241m=\u001b[39mkeepdims, where\u001b[38;5;241m=\u001b[39mwhere)\n\u001b[0;32m-> 2416\u001b[0m \u001b[38;5;28;01mdef\u001b[39;00m \u001b[38;5;21m_all_dispatcher\u001b[39m(a, axis\u001b[38;5;241m=\u001b[39m\u001b[38;5;28;01mNone\u001b[39;00m, out\u001b[38;5;241m=\u001b[39m\u001b[38;5;28;01mNone\u001b[39;00m, keepdims\u001b[38;5;241m=\u001b[39m\u001b[38;5;28;01mNone\u001b[39;00m, \u001b[38;5;241m*\u001b[39m,\n\u001b[1;32m   2417\u001b[0m                     where\u001b[38;5;241m=\u001b[39m\u001b[38;5;28;01mNone\u001b[39;00m):\n\u001b[1;32m   2418\u001b[0m     \u001b[38;5;28;01mreturn\u001b[39;00m (a, where, out)\n\u001b[1;32m   2421\u001b[0m \u001b[38;5;129m@array_function_dispatch\u001b[39m(_all_dispatcher)\n\u001b[1;32m   2422\u001b[0m \u001b[38;5;28;01mdef\u001b[39;00m \u001b[38;5;21mall\u001b[39m(a, axis\u001b[38;5;241m=\u001b[39m\u001b[38;5;28;01mNone\u001b[39;00m, out\u001b[38;5;241m=\u001b[39m\u001b[38;5;28;01mNone\u001b[39;00m, keepdims\u001b[38;5;241m=\u001b[39mnp\u001b[38;5;241m.\u001b[39m_NoValue, \u001b[38;5;241m*\u001b[39m, where\u001b[38;5;241m=\u001b[39mnp\u001b[38;5;241m.\u001b[39m_NoValue):\n",
      "\u001b[0;31mKeyboardInterrupt\u001b[0m: "
     ]
    }
   ],
   "source": [
    "from sklearn.model_selection import train_test_split\n",
    "import numpy as np\n",
    "import torch\n",
    "from torch.autograd import Variable\n",
    "from src.supervised_NDL.SMF_BCD import SDL_BCD\n",
    "from src.supervised_NDL.SMF_torch import smf\n",
    "\n",
    "# k=20, n=5;\n",
    "k= 15\n",
    "\n",
    "X , y = sampling_graph_classification(dataset = dataset_ppa, k = k, sample_size=10, \n",
    "                                          has_edge_feature=True,info_print=False,skip_folded_hom=True)\n",
    "\n",
    "# X , y = sampling_graph_classification(dataset = dataset_molhiv, k = k, sample_size=1, \n",
    "#                                           has_edge_feature=True, has_node_feature=True, info_print=False)\n",
    "\n",
    "print(f\"!!! X's shape: {X.shape}\")\n",
    "print(f\"!!! y's shape: {y.shape}\")\n",
    "Accuracy = []\n",
    "test_size = 0.5\n",
    "\n",
    "# X_train, X_test, Y_train, Y_test = train_test_split(X.T, y.T, test_size=test_size, random_state=2)\n",
    "# # print(X_train.shape)\n",
    "# # print(Y_train.shape)\n",
    "\n",
    "# X_train = Variable(torch.from_numpy(X_train)).float()\n",
    "# y_train = Variable(torch.from_numpy(Y_train)).long()\n",
    "# X_test = Variable(torch.from_numpy(X_test)).float()\n",
    "# y_test = Variable(torch.from_numpy(Y_test)).long()\n",
    "# # print(f\"y_train's ndim: {y_train.ndim}\")\n",
    "# # print(f\"y_test: {y_test.shape}\")\n",
    "\n",
    "# smf_model = smf(X_train, y_train, hidden_size=k, device='cuda')\n",
    "# results_dict = smf_model.fit(num_epochs=100,\n",
    "#                lr_classification=0.01,\n",
    "#                lr_matrix_factorization=0.01,\n",
    "#                xi=1,\n",
    "#                initialize='spectral',\n",
    "#                W_nonnegativity=True,\n",
    "#                H_nonnegativity=True,\n",
    "#                test_data=[X_test, y_test],\n",
    "#                record_recons_error=True)\n",
    "\n",
    "# W = results_dict.get('loading')[0]\n",
    "# beta= results_dict.get('loading')[1]\n",
    "# H = results_dict.get('code')"
   ]
  },
  {
   "cell_type": "code",
   "execution_count": 6,
   "metadata": {},
   "outputs": [
    {
     "data": {
      "image/png": "[encoded data removed]",
      "text/plain": [
       "<Figure size 1500x1500 with 2 Axes>"
      ]
     },
     "metadata": {},
     "output_type": "display_data"
    }
   ],
   "source": [
    "from util.plotting  import *\n",
    "\n",
    "display_dict_and_graph(save_path=f'output/figure/ogbg_ppa', W=W[:k**2], regression_coeff=beta.T, fig_size=[10,10], plot_graph_only=True)"
   ]
  }
 ],
 "metadata": {
  "kernelspec": {
   "display_name": "REU2024",
   "language": "python",
   "name": "python3"
  },
  "language_info": {
   "codemirror_mode": {
    "name": "ipython",
    "version": 3
   },
   "file_extension": ".py",
   "mimetype": "text/x-python",
   "name": "python",
   "nbconvert_exporter": "python",
   "pygments_lexer": "ipython3",
   "version": "3.12.4"
  }
 },
 "nbformat": 4,
 "nbformat_minor": 2
}
