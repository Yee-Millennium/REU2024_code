{
 "cells": [
  {
   "cell_type": "code",
   "execution_count": 1,
   "metadata": {},
   "outputs": [],
   "source": [
    "from ogb.graphproppred.dataset_pyg import PygGraphPropPredDataset\n",
    "\n",
    "# Download and process data at './dataset/'\n",
    "dataset_molhiv = PygGraphPropPredDataset(name = 'ogbg-molhiv')\n",
    "\n",
    "dataset_molpcba = PygGraphPropPredDataset(name = 'ogbg-molpcba')\n",
    "\n",
    "dataset_ppa = PygGraphPropPredDataset(name = 'ogbg-ppa')"
   ]
  },
  {
   "cell_type": "code",
   "execution_count": null,
   "metadata": {},
   "outputs": [
    {
     "name": "stdout",
     "output_type": "stream",
     "text": [
      "num of labels in molhiv: 2\n",
      "num of features of nodes in molhiv: 9\n",
      "num of features of edges in molhiv: 3\n",
      "num of labels in molpcba: 2\n",
      "num of features of nodes in molpcba: 9\n",
      "num of features of edges in molpcba: 3\n",
      "num of labels in molppa: 37\n",
      "num of features of nodes in molppa: 0\n",
      "num of features of edges in molppa: 7\n"
     ]
    }
   ],
   "source": [
    "print(f\"num of labels in molhiv: {dataset_molhiv.num_classes}\")\n",
    "print(f\"num of features of nodes in molhiv: {dataset_molhiv.num_node_features}\")\n",
    "print(f\"num of features of edges in molhiv: {dataset_molhiv.num_edge_features}\")\n",
    "\n",
    "print(f\"num of labels in molpcba: {dataset_molpcba.num_classes}\")\n",
    "print(f\"num of features of nodes in molpcba: {dataset_molpcba.num_node_features}\")\n",
    "print(f\"num of features of edges in molpcba: {dataset_molpcba.num_edge_features}\")\n",
    "\n",
    "print(f\"num of labels in molppa: {dataset_ppa.num_classes}\")\n",
    "print(f\"num of features of nodes in molppa: {dataset_ppa.num_node_features}\")\n",
    "print(f\"num of features of edges in molppa: {dataset_ppa.num_edge_features}\")"
   ]
  },
  {
   "cell_type": "code",
   "execution_count": null,
   "metadata": {},
   "outputs": [
    {
     "name": "stderr",
     "output_type": "stream",
     "text": [
      "100%|██████████| 41127/41127 [00:02<00:00, 16828.15it/s]\n",
      "100%|██████████| 437929/437929 [00:20<00:00, 20878.54it/s]\n",
      "100%|██████████| 158100/158100 [00:06<00:00, 23513.13it/s]\n"
     ]
    },
    {
     "data": {
      "text/plain": [
       "PygGraphPropPredDataset (#graphs=158100):\n",
       "+------------+----------+----------+\n",
       "|            |   #nodes |   #edges |\n",
       "|------------+----------+----------|\n",
       "| mean       |    243.4 |   4532.2 |\n",
       "| std        |     85.4 |   2615.3 |\n",
       "| min        |     50   |    108   |\n",
       "| quantile25 |    182   |   2960   |\n",
       "| median     |    300   |   4274   |\n",
       "| quantile75 |    300   |   5716   |\n",
       "| max        |    300   |  36138   |\n",
       "+------------+----------+----------+"
      ]
     },
     "execution_count": 8,
     "metadata": {},
     "output_type": "execute_result"
    }
   ],
   "source": [
    "dataset_molhiv.get_summary()\n",
    "dataset_molpcba.get_summary()\n",
    "dataset_ppa.get_summary()"
   ]
  },
  {
   "cell_type": "code",
   "execution_count": null,
   "metadata": {},
   "outputs": [
    {
     "name": "stdout",
     "output_type": "stream",
     "text": [
      "example data of dataset_molhiv: Data(edge_index=[2, 40], edge_attr=[40, 3], x=[19, 9], y=[1, 1], num_nodes=19)\n",
      "example data of dataset_molpca: Data(edge_index=[2, 44], edge_attr=[44, 3], x=[20, 9], y=[1, 128], num_nodes=20)\n",
      "example data of dataset_ppa: Data(edge_index=[2, 4408], edge_attr=[4408, 7], y=[1, 1], num_nodes=300)\n"
     ]
    }
   ],
   "source": [
    "print(f\"example data of dataset_molhiv: {dataset_molhiv[0]}\")\n",
    "print(f\"example data of dataset_molpca: {dataset_molpcba[0]}\")\n",
    "print(f\"example data of dataset_ppa: {dataset_ppa[0]}\")"
   ]
  },
  {
   "cell_type": "code",
   "execution_count": 2,
   "metadata": {},
   "outputs": [],
   "source": [
    "from src.sampling.Sampling import sampling_graph_classification"
   ]
  },
  {
   "cell_type": "code",
   "execution_count": 5,
   "metadata": {},
   "outputs": [
    {
     "name": "stdout",
     "output_type": "stream",
     "text": [
      "--- Training --- [threshold, AUC] =  [0.921, 0.491]\n",
      "--- Iteration -1: Training loss --- [Data, Label, Total] = [270529.761658.3, 56692.104100.3, 327221.865758.3]\n",
      "Epoch [10/100],Elapsed_time: 0.39469218254089355,Loss_Classification: 7438.3779 Loss_MF: 0.4555\n",
      "mythre= 0.92137134\n",
      "mythre_test= 0.037823472\n",
      "Test accuracy = 0.966, Test AUC = 0.493\n",
      "--- Training --- [threshold, AUC] =  [0.036, 0.509]\n",
      "--- Iteration 9: Training loss --- [Data, Label, Total] = [312734.348206.3, 3213.987249.3, 315948.335455.3]\n",
      "Epoch [20/100],Elapsed_time: 0.7621128559112549,Loss_Classification: 7438.3779 Loss_MF: 0.4178\n",
      "mythre= 0.035744824\n",
      "mythre_test= 0.037823472\n",
      "Test accuracy = 0.282, Test AUC = 0.493\n",
      "--- Training --- [threshold, AUC] =  [0.036, 0.509]\n",
      "--- Iteration 19: Training loss --- [Data, Label, Total] = [291307.397658.3, 3213.987249.3, 294521.384907.3]\n",
      "Epoch [30/100],Elapsed_time: 1.1427223682403564,Loss_Classification: 7438.3779 Loss_MF: 0.4133\n",
      "mythre= 0.035744824\n",
      "mythre_test= 0.037823472\n",
      "Test accuracy = 0.282, Test AUC = 0.493\n",
      "--- Training --- [threshold, AUC] =  [0.036, 0.509]\n",
      "--- Iteration 29: Training loss --- [Data, Label, Total] = [288822.206125.3, 3213.987249.3, 292036.193374.3]\n",
      "Epoch [40/100],Elapsed_time: 1.5297017097473145,Loss_Classification: 7438.3779 Loss_MF: 0.4125\n",
      "mythre= 0.035744824\n",
      "mythre_test= 0.037823472\n",
      "Test accuracy = 0.282, Test AUC = 0.493\n",
      "--- Training --- [threshold, AUC] =  [0.036, 0.509]\n",
      "--- Iteration 39: Training loss --- [Data, Label, Total] = [288345.139654.3, 3213.987249.3, 291559.126903.3]\n",
      "Epoch [50/100],Elapsed_time: 1.9216384887695312,Loss_Classification: 7438.3779 Loss_MF: 0.4125\n",
      "mythre= 0.035744824\n",
      "mythre_test= 0.037823472\n",
      "Test accuracy = 0.282, Test AUC = 0.493\n",
      "--- Training --- [threshold, AUC] =  [0.036, 0.509]\n",
      "--- Iteration 49: Training loss --- [Data, Label, Total] = [288344.615262.3, 3213.987249.3, 291558.602511.3]\n",
      "Epoch [60/100],Elapsed_time: 2.321779489517212,Loss_Classification: 7438.3779 Loss_MF: 0.4125\n",
      "mythre= 0.035744824\n",
      "mythre_test= 0.037823472\n",
      "Test accuracy = 0.282, Test AUC = 0.493\n",
      "--- Training --- [threshold, AUC] =  [0.036, 0.509]\n",
      "--- Iteration 59: Training loss --- [Data, Label, Total] = [288344.615262.3, 3213.987249.3, 291558.602511.3]\n",
      "Epoch [70/100],Elapsed_time: 2.717308282852173,Loss_Classification: 7438.3779 Loss_MF: 0.4125\n",
      "mythre= 0.035744824\n",
      "mythre_test= 0.037823472\n",
      "Test accuracy = 0.282, Test AUC = 0.493\n",
      "--- Training --- [threshold, AUC] =  [0.036, 0.509]\n",
      "--- Iteration 69: Training loss --- [Data, Label, Total] = [288344.615262.3, 3213.987249.3, 291558.602511.3]\n",
      "Epoch [80/100],Elapsed_time: 3.1026246547698975,Loss_Classification: 7438.3779 Loss_MF: 0.4125\n",
      "mythre= 0.035744824\n",
      "mythre_test= 0.037823472\n",
      "Test accuracy = 0.282, Test AUC = 0.493\n",
      "--- Training --- [threshold, AUC] =  [0.036, 0.509]\n",
      "--- Iteration 79: Training loss --- [Data, Label, Total] = [288344.615262.3, 3213.987249.3, 291558.602511.3]\n",
      "Epoch [90/100],Elapsed_time: 3.550978422164917,Loss_Classification: 7438.3779 Loss_MF: 0.4125\n",
      "mythre= 0.035744824\n",
      "mythre_test= 0.037823472\n",
      "Test accuracy = 0.282, Test AUC = 0.493\n",
      "--- Training --- [threshold, AUC] =  [0.036, 0.509]\n",
      "--- Iteration 89: Training loss --- [Data, Label, Total] = [288344.615262.3, 3213.987249.3, 291558.602511.3]\n",
      "Epoch [100/100],Elapsed_time: 3.9290523529052734,Loss_Classification: 7438.3779 Loss_MF: 0.4125\n",
      "mythre= 0.035744824\n",
      "mythre_test= 0.037823472\n",
      "Test accuracy = 0.282, Test AUC = 0.493\n",
      "--- Training --- [threshold, AUC] =  [0.036, 0.509]\n",
      "--- Iteration 99: Training loss --- [Data, Label, Total] = [288344.615262.3, 3213.987249.3, 291558.602511.3]\n"
     ]
    }
   ],
   "source": [
    "from sklearn.model_selection import train_test_split\n",
    "import numpy as np\n",
    "import torch\n",
    "from torch.autograd import Variable\n",
    "from src.supervised_NDL.SMF_BCD import SDL_BCD\n",
    "from src.supervised_NDL.SMF_torch import smf\n",
    "\n",
    "k= 2\n",
    "\n",
    "# X , y = sampling_graph_classification(dataset = dataset_ppa, k = k, sample_size=1, \n",
    "#                                           has_edge_feature=True)\n",
    "\n",
    "X , y = sampling_graph_classification(dataset = dataset_molhiv, k = k, sample_size=1, \n",
    "                                          has_edge_feature=True, has_node_feature=True)\n",
    "\n",
    "Accuracy = []\n",
    "test_size = 0.5\n",
    "\n",
    "X_train, X_test, Y_train, Y_test = train_test_split(X.T, y.T, test_size=test_size, random_state=2)\n",
    "# print(X_train.shape)\n",
    "# print(Y_train.shape)\n",
    "\n",
    "X_train = Variable(torch.from_numpy(X_train)).float()\n",
    "y_train = Variable(torch.from_numpy(Y_train)).long()\n",
    "X_test = Variable(torch.from_numpy(X_test)).float()\n",
    "y_test = Variable(torch.from_numpy(Y_test)).long()\n",
    "# print(f\"y_train's ndim: {y_train.ndim}\")\n",
    "# print(f\"y_test: {y_test.shape}\")\n",
    "\n",
    "smf_model = smf(X_train, y_train, hidden_size=k, device='cuda')\n",
    "results_dict = smf_model.fit(num_epochs=100,\n",
    "               lr_classification=0.01,\n",
    "               lr_matrix_factorization=0.01,\n",
    "               xi=1,\n",
    "               initialize='spectral',\n",
    "               W_nonnegativity=True,\n",
    "               H_nonnegativity=True,\n",
    "               test_data=[X_test, y_test],\n",
    "               record_recons_error=True)\n",
    "\n",
    "W = results_dict.get('loading')[0]\n",
    "beta= results_dict.get('loading')[1]\n",
    "H = results_dict.get('code')"
   ]
  },
  {
   "cell_type": "code",
   "execution_count": 6,
   "metadata": {},
   "outputs": [
    {
     "data": {
      "image/png": "[encoded data removed]",
      "text/plain": [
       "<Figure size 1500x1500 with 2 Axes>"
      ]
     },
     "metadata": {},
     "output_type": "display_data"
    }
   ],
   "source": [
    "from util.plotting  import *\n",
    "\n",
    "display_dict_and_graph(save_path=f'output/figure/ogbg_ppa', W=W[:k**2], regression_coeff=beta.T, fig_size=[15,15], plot_graph_only=True)"
   ]
  }
 ],
 "metadata": {
  "kernelspec": {
   "display_name": "REU2024",
   "language": "python",
   "name": "python3"
  },
  "language_info": {
   "codemirror_mode": {
    "name": "ipython",
    "version": 3
   },
   "file_extension": ".py",
   "mimetype": "text/x-python",
   "name": "python",
   "nbconvert_exporter": "python",
   "pygments_lexer": "ipython3",
   "version": "3.12.4"
  }
 },
 "nbformat": 4,
 "nbformat_minor": 2
}
