{
 "cells": [
  {
   "cell_type": "code",
   "execution_count": 1,
   "metadata": {},
   "outputs": [],
   "source": [
    "import numpy as np\n",
    "import seaborn as sns\n",
    "import os\n",
    "import sys\n",
    "import matplotlib.pyplot as plt\n",
    "from itertools import combinations\n",
    "from mpl_toolkits.mplot3d.art3d import Poly3DCollection\n",
    "from NNetwork import NNetwork as nn\n",
    "from src.sampling.Sampling import sampling_sndl\n",
    "from src.supervised_NDL.SNDL import sndl_equalEdge, sndl_predict\n",
    "from util.plotting import *\n",
    "from contextlib import contextmanager"
   ]
  },
  {
   "cell_type": "code",
   "execution_count": 2,
   "metadata": {},
   "outputs": [],
   "source": [
    "@contextmanager\n",
    "def suppress_output():\n",
    "    # Redirect stdout to null\n",
    "    with open(os.devnull, 'w') as fnull:\n",
    "        original_stdout = sys.stdout\n",
    "        sys.stdout = fnull\n",
    "        try:\n",
    "            yield\n",
    "        finally:\n",
    "            sys.stdout = original_stdout"
   ]
  },
  {
   "cell_type": "markdown",
   "metadata": {},
   "source": [
    "## Binary Affinity Score Heatmap"
   ]
  },
  {
   "cell_type": "code",
   "execution_count": 3,
   "metadata": {},
   "outputs": [],
   "source": [
    "def compute_latent_motifs_binary_all(graph_list, sample_size_list, k, n_components, iterations):\n",
    "    motifs = {}\n",
    "    for i, j in combinations(range(len(graph_list)), 2):\n",
    "        print(f\"Computing latent motifs for networks ({i}, {j})\")\n",
    "        X, y = sampling_sndl([graph_list[i], graph_list[j]], k=k, sample_size_list=sample_size_list)\n",
    "        with suppress_output():\n",
    "            W, beta, H = sndl_equalEdge([graph_list[i], graph_list[j]], sample_size_list, k=k, xi=2, n_components=n_components, iter=iterations)\n",
    "        motifs[(i, j)] = (W, beta)\n",
    "    return motifs"
   ]
  },
  {
   "cell_type": "code",
   "execution_count": 4,
   "metadata": {},
   "outputs": [],
   "source": [
    "def compute_affinity_scores(motifs, graph_paths, sample_size_list, k, n_components, iterations):\n",
    "    affinity_scores = {}\n",
    "    num_graphs = len(graph_paths)\n",
    "    \n",
    "    for (i, j), (W, beta) in motifs.items():\n",
    "        for l in range(num_graphs):\n",
    "            print(f\"Computing affinity score for pair ({i}, {j}) with test network {l}\")\n",
    "            G_test = nn.NNetwork()\n",
    "            G_test.load_add_edges(graph_paths[l], increment_weights=False, use_genfromtxt=True)\n",
    "            affinity_score = sndl_predict(G_test, W, beta, 1000)\n",
    "            affinity_scores[(i, j, l)] = affinity_score\n",
    "            del G_test  # Clear memory after usage\n",
    "            print(affinity_scores)\n",
    "    return affinity_scores"
   ]
  },
  {
   "cell_type": "code",
   "execution_count": 5,
   "metadata": {},
   "outputs": [],
   "source": [
    "def plot_affinity_heatmap_binary_all(affinity_scores, ntwk_list):\n",
    "    num_graphs = len(ntwk_list)\n",
    "    num_pairs = len(list(combinations(range(num_graphs), 2)))\n",
    "    affinity_matrix = np.zeros((num_pairs, num_graphs))\n",
    "    \n",
    "    row_labels = []\n",
    "    idx = 0\n",
    "    \n",
    "    for i, j in combinations(range(num_graphs), 2):\n",
    "        row_labels.append(f'{ntwk_list[i]} & {ntwk_list[j]}')\n",
    "        for l in range(num_graphs):\n",
    "            affinity_matrix[idx, l] = affinity_scores[(i, j, l)][1]\n",
    "        idx += 1\n",
    "\n",
    "    col_labels = [ntwk for ntwk in ntwk_list]\n",
    "\n",
    "    plt.figure(figsize=(10, 8))\n",
    "    sns.heatmap(affinity_matrix, annot=True, fmt=\".2f\", xticklabels=col_labels, yticklabels=row_labels, cmap='Blues')\n",
    "    plt.xlabel('Test Network')\n",
    "    plt.ylabel('Network Pair')\n",
    "    plt.title('Affinity Scores Heatmap')\n",
    "    plt.show()"
   ]
  },
  {
   "cell_type": "code",
   "execution_count": 6,
   "metadata": {},
   "outputs": [],
   "source": [
    "def affinity_analysis_binary_all(ntwk_list, sample_size_list, k, n_components, iterations):\n",
    "    graph_paths = [f\"data/{ntwk}.txt\" for ntwk in ntwk_list]\n",
    "    graph_list = []\n",
    "\n",
    "    for path in graph_paths:\n",
    "        G = nn.NNetwork()\n",
    "        G.load_add_edges(path, increment_weights=False, use_genfromtxt=True)\n",
    "        graph_list.append(G)\n",
    "    \n",
    "    motifs = compute_latent_motifs_binary_all(graph_list, sample_size_list, k, n_components, iterations)\n",
    "    affinity_scores = compute_affinity_scores(motifs, graph_paths, sample_size_list, k, n_components, iterations)\n",
    "    plot_affinity_heatmap_binary_all(affinity_scores, ntwk_list)"
   ]
  },
  {
   "cell_type": "code",
   "execution_count": 7,
   "metadata": {},
   "outputs": [
    {
     "name": "stdout",
     "output_type": "stream",
     "text": [
      "Computing latent motifs for networks (0, 1)\n",
      "num of subgraphs induced on k-paths: 500\n",
      "num of subgraphs induced on k-paths: 500\n"
     ]
    },
    {
     "name": "stderr",
     "output_type": "stream",
     "text": [
      "100%|██████████| 250/250 [00:16<00:00, 15.48it/s]\n"
     ]
    },
    {
     "name": "stdout",
     "output_type": "stream",
     "text": [
      "Computing latent motifs for networks (0, 2)\n",
      "num of subgraphs induced on k-paths: 500\n",
      "num of subgraphs induced on k-paths: 500\n"
     ]
    },
    {
     "name": "stderr",
     "output_type": "stream",
     "text": [
      "100%|██████████| 250/250 [00:14<00:00, 17.07it/s]\n"
     ]
    },
    {
     "name": "stdout",
     "output_type": "stream",
     "text": [
      "Computing latent motifs for networks (0, 3)\n",
      "num of subgraphs induced on k-paths: 500\n",
      "num of subgraphs induced on k-paths: 500\n"
     ]
    },
    {
     "name": "stderr",
     "output_type": "stream",
     "text": [
      "100%|██████████| 250/250 [00:15<00:00, 16.27it/s]\n"
     ]
    },
    {
     "name": "stdout",
     "output_type": "stream",
     "text": [
      "Computing latent motifs for networks (1, 2)\n",
      "num of subgraphs induced on k-paths: 500\n",
      "num of subgraphs induced on k-paths: 500\n"
     ]
    }
   ],
   "source": [
    "# Example usage\n",
    "ntwk_list = ['Caltech36', 'UCLA26', 'Harvard1', \"MIT8\"]\n",
    "sample_size_list = [500, 500]\n",
    "k = 50\n",
    "n_components = 16\n",
    "iterations = 250\n",
    "\n",
    "affinity_analysis_binary_all(ntwk_list, sample_size_list, k, n_components, iterations)"
   ]
  }
 ],
 "metadata": {
  "kernelspec": {
   "display_name": "base",
   "language": "python",
   "name": "python3"
  },
  "language_info": {
   "codemirror_mode": {
    "name": "ipython",
    "version": 3
   },
   "file_extension": ".py",
   "mimetype": "text/x-python",
   "name": "python",
   "nbconvert_exporter": "python",
   "pygments_lexer": "ipython3",
   "version": "3.11.4"
  }
 },
 "nbformat": 4,
 "nbformat_minor": 2
}
