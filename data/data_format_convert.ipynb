{
 "cells": [
  {
   "cell_type": "markdown",
   "metadata": {},
   "source": [
    "### .mtx to .txt"
   ]
  },
  {
   "cell_type": "code",
   "execution_count": 3,
   "metadata": {},
   "outputs": [],
   "source": [
    "def convert_mtx_to_txt(mtx_path, txt_path):\n",
    "    # Open the .mtx file and a new file to write the parsed output\n",
    "    with open(mtx_path, 'r') as input_file, open(txt_path, 'w') as output_file:\n",
    "        # Skip the first two lines which are header lines\n",
    "        for _ in range(2):\n",
    "            next(input_file)\n",
    "        \n",
    "        # Read each line after the header, each line contains node_id and group_id\n",
    "        for line in input_file:\n",
    "            node_id, group_id = line.split()\n",
    "            # Write to output file in the format 'node_id,group_id'\n",
    "            output_file.write(f\"{node_id},{group_id}\\n\")"
   ]
  },
  {
   "cell_type": "code",
   "execution_count": null,
   "metadata": {},
   "outputs": [],
   "source": [
    "# Usage\n",
    "mtx_path = '../raw/socfb-Wisconsin87.mtx'\n",
    "output_path = 'data/Wisconsin87.txt'\n",
    "convert_mtx_to_txt(mtx_path, output_path)"
   ]
  },
  {
   "cell_type": "markdown",
   "metadata": {},
   "source": [
    "### .edges to .txt"
   ]
  },
  {
   "cell_type": "code",
   "execution_count": 8,
   "metadata": {},
   "outputs": [],
   "source": [
    "def convert_edges_to_txt(edges_path, txt_path):\n",
    "    with open(edges_path, 'r') as input_file, open(txt_path, 'w') as output_file:\n",
    "        for line in input_file:\n",
    "            if line.startswith('%') or ',' not in line:\n",
    "                continue  # Skip lines that do not contain pairs\n",
    "            # Write only the node pairs to the output file\n",
    "            output_file.write(line)"
   ]
  },
  {
   "cell_type": "code",
   "execution_count": 18,
   "metadata": {},
   "outputs": [],
   "source": [
    "# Usage\n",
    "edges_file_path = 'raw/bio-grid-plant.edges'\n",
    "txt_file_path = 'bio-plant.txt'\n",
    "convert_edges_to_txt(edges_file_path, txt_file_path)"
   ]
  }
 ],
 "metadata": {
  "kernelspec": {
   "display_name": "base",
   "language": "python",
   "name": "python3"
  },
  "language_info": {
   "codemirror_mode": {
    "name": "ipython",
    "version": 3
   },
   "file_extension": ".py",
   "mimetype": "text/x-python",
   "name": "python",
   "nbconvert_exporter": "python",
   "pygments_lexer": "ipython3",
   "version": "3.11.4"
  }
 },
 "nbformat": 4,
 "nbformat_minor": 2
}
