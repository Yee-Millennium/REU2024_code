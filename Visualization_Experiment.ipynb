{
 "cells": [
  {
   "cell_type": "code",
   "execution_count": 1,
   "metadata": {},
   "outputs": [],
   "source": [
    "import networkx as nx\n",
    "import numpy as np\n",
    "import pandas as pd\n",
    "import matplotlib.pyplot as plt\n",
    "from Visualization import *\n",
    "from NNetwork import NNetwork as nn\n",
    "from src.supervised_NDL.SNDL import sndl_equalEdge, sndl_predict\n",
    "from util.plotting import *\n",
    "from src.sampling.Sampling import sampling_sndl"
   ]
  },
  {
   "cell_type": "markdown",
   "metadata": {},
   "source": [
    "# Synthetic Baseline"
   ]
  },
  {
   "cell_type": "code",
   "execution_count": 2,
   "metadata": {},
   "outputs": [
    {
     "name": "stdout",
     "output_type": "stream",
     "text": [
      "Getting save path...\n",
      "Computing dictionary for baseline 0 and saving to dictionaries/CM_Caltech36_WS_Caltech36_BA_Caltech36_bs50_k5_xi7_nc10_iter50_bi0.pkl\n",
      "Calling `sndl_equalEdge` and computing dictionary\n",
      "Calling `sndl_equalEdge` and computing dictionary\n",
      "Calling `sndl_equalEdge` and computing dictionary\n"
     ]
    },
    {
     "name": "stderr",
     "output_type": "stream",
     "text": [
      "  0%|          | 0/50 [00:00<?, ?it/s]\n"
     ]
    },
    {
     "ename": "ValueError",
     "evalue": "all the input array dimensions except for the concatenation axis must match exactly, but along dimension 1, the array at index 0 has size 143 and the array at index 1 has size 140",
     "output_type": "error",
     "traceback": [
      "\u001b[1;31m---------------------------------------------------------------------------\u001b[0m",
      "\u001b[1;31mValueError\u001b[0m                                Traceback (most recent call last)",
      "Cell \u001b[1;32mIn[2], line 2\u001b[0m\n\u001b[0;32m      1\u001b[0m ntwk_list \u001b[38;5;241m=\u001b[39m [\u001b[38;5;124m'\u001b[39m\u001b[38;5;124mCM_Caltech36\u001b[39m\u001b[38;5;124m'\u001b[39m, \u001b[38;5;124m'\u001b[39m\u001b[38;5;124mWS_Caltech36\u001b[39m\u001b[38;5;124m'\u001b[39m, \u001b[38;5;124m'\u001b[39m\u001b[38;5;124mBA_Caltech36\u001b[39m\u001b[38;5;124m'\u001b[39m, \u001b[38;5;124m'\u001b[39m\u001b[38;5;124mCaltech36\u001b[39m\u001b[38;5;124m'\u001b[39m]\n\u001b[1;32m----> 2\u001b[0m plot_3d_prediction(ntwk_list, base_sample_size\u001b[38;5;241m=\u001b[39m\u001b[38;5;241m50\u001b[39m, k\u001b[38;5;241m=\u001b[39m\u001b[38;5;241m5\u001b[39m, n_components\u001b[38;5;241m=\u001b[39m\u001b[38;5;241m10\u001b[39m, iterations\u001b[38;5;241m=\u001b[39m\u001b[38;5;241m50\u001b[39m, baseline_i\u001b[38;5;241m=\u001b[39m\u001b[38;5;241m0\u001b[39m)\n",
      "File \u001b[1;32mc:\\Users\\KuangQi\\Desktop\\REU_main\\REU2024_code\\Visualization.py:243\u001b[0m, in \u001b[0;36mplot_3d_prediction\u001b[1;34m(ntwk_list, base_sample_size, k, n_components, iterations, baseline_i)\u001b[0m\n\u001b[0;32m    240\u001b[0m os\u001b[38;5;241m.\u001b[39mmakedirs(\u001b[38;5;124m'\u001b[39m\u001b[38;5;124mdictionaries\u001b[39m\u001b[38;5;124m'\u001b[39m, exist_ok\u001b[38;5;241m=\u001b[39m\u001b[38;5;28;01mTrue\u001b[39;00m)\n\u001b[0;32m    242\u001b[0m \u001b[38;5;66;03m# Compute dictionary for the baseline set of 3 networks\u001b[39;00m\n\u001b[1;32m--> 243\u001b[0m W, beta, H \u001b[38;5;241m=\u001b[39m compute_latent_motifs_and_dictionary(ntwk_list, base_sample_size\u001b[38;5;241m=\u001b[39mbase_sample_size, k\u001b[38;5;241m=\u001b[39mk, xi\u001b[38;5;241m=\u001b[39m\u001b[38;5;241m7\u001b[39m, n_components\u001b[38;5;241m=\u001b[39mn_components, iterations\u001b[38;5;241m=\u001b[39miterations, baseline_i\u001b[38;5;241m=\u001b[39mbaseline_i)\n\u001b[0;32m    245\u001b[0m \u001b[38;5;66;03m# Compute affinity scores for all networks\u001b[39;00m\n\u001b[0;32m    246\u001b[0m affinity_scores \u001b[38;5;241m=\u001b[39m compute_affinity_scores_for_all_networks(ntwk_list, W, beta, baseline_i)\n",
      "File \u001b[1;32mc:\\Users\\KuangQi\\Desktop\\REU_main\\REU2024_code\\Visualization.py:130\u001b[0m, in \u001b[0;36mcompute_latent_motifs_and_dictionary\u001b[1;34m(ntwk_list, base_sample_size, k, xi, n_components, iterations, baseline_i)\u001b[0m\n\u001b[0;32m    128\u001b[0m         \u001b[38;5;28mprint\u001b[39m(\u001b[38;5;124m\"\u001b[39m\u001b[38;5;124mCalling `sndl_equalEdge` and computing dictionary\u001b[39m\u001b[38;5;124m\"\u001b[39m)\n\u001b[0;32m    129\u001b[0m     \u001b[38;5;28;01mwith\u001b[39;00m suppress_output():\n\u001b[1;32m--> 130\u001b[0m         W, beta, H \u001b[38;5;241m=\u001b[39m sndl_equalEdge(graph_list, base_sample_size\u001b[38;5;241m=\u001b[39mbase_sample_size, k\u001b[38;5;241m=\u001b[39mk, xi\u001b[38;5;241m=\u001b[39mxi, n_components\u001b[38;5;241m=\u001b[39mn_components, \u001b[38;5;28miter\u001b[39m\u001b[38;5;241m=\u001b[39miterations)\n\u001b[0;32m    132\u001b[0m     save_dictionary(W, beta, H, filepath)\n\u001b[0;32m    134\u001b[0m \u001b[38;5;28;01mreturn\u001b[39;00m W, beta, H\n",
      "File \u001b[1;32mc:\\Users\\KuangQi\\Desktop\\REU_main\\REU2024_code\\src\\supervised_NDL\\SNDL.py:59\u001b[0m, in \u001b[0;36msndl_equalEdge\u001b[1;34m(graph_list, sample_size_list, k, xi, threshold, n_components, iter, base_sample_size, subsample_number, if_compute_recons_error, if_validate)\u001b[0m\n\u001b[0;32m     57\u001b[0m \u001b[38;5;66;03m# SMF_W solve the SNDL\u001b[39;00m\n\u001b[0;32m     58\u001b[0m SMF_Train \u001b[38;5;241m=\u001b[39m SMF_BCD\u001b[38;5;241m.\u001b[39mSDL_BCD([X, y], X_test\u001b[38;5;241m=\u001b[39m[X, y], xi\u001b[38;5;241m=\u001b[39m xi, n_components\u001b[38;5;241m=\u001b[39mn_components)\n\u001b[1;32m---> 59\u001b[0m results_dict \u001b[38;5;241m=\u001b[39m SMF_Train\u001b[38;5;241m.\u001b[39mfit(\u001b[38;5;28miter\u001b[39m\u001b[38;5;241m=\u001b[39m\u001b[38;5;28miter\u001b[39m, subsample_size\u001b[38;5;241m=\u001b[39m\u001b[38;5;28;01mNone\u001b[39;00m,\u001b[38;5;66;03m# search_radius_const=200*np.linalg.norm(X),\u001b[39;00m\n\u001b[0;32m     60\u001b[0m                             if_compute_recons_error\u001b[38;5;241m=\u001b[39mif_compute_recons_error, if_validate\u001b[38;5;241m=\u001b[39m\n\u001b[0;32m     61\u001b[0m                             if_validate, threshold\u001b[38;5;241m=\u001b[39mthreshold)\n\u001b[0;32m     63\u001b[0m W \u001b[38;5;241m=\u001b[39m results_dict\u001b[38;5;241m.\u001b[39mget(\u001b[38;5;124m'\u001b[39m\u001b[38;5;124mloading\u001b[39m\u001b[38;5;124m'\u001b[39m)[\u001b[38;5;241m0\u001b[39m]\n\u001b[0;32m     64\u001b[0m beta\u001b[38;5;241m=\u001b[39m results_dict\u001b[38;5;241m.\u001b[39mget(\u001b[38;5;124m'\u001b[39m\u001b[38;5;124mloading\u001b[39m\u001b[38;5;124m'\u001b[39m)[\u001b[38;5;241m1\u001b[39m]\n",
      "File \u001b[1;32mc:\\Users\\KuangQi\\Desktop\\REU_main\\REU2024_code\\src\\supervised_NDL\\SMF_BCD.py:450\u001b[0m, in \u001b[0;36mSDL_BCD.fit\u001b[1;34m(self, option, threshold, iter, beta, dict_update_freq, subsample_size, subsample_ratio_code, search_radius_const, if_compute_recons_error, update_nuance_param, auxiliary_training, if_validate)\u001b[0m\n\u001b[0;32m    447\u001b[0m \u001b[38;5;28;01melif\u001b[39;00m option \u001b[38;5;241m==\u001b[39m \u001b[38;5;124m\"\u001b[39m\u001b[38;5;124mfilter\u001b[39m\u001b[38;5;124m\"\u001b[39m:\n\u001b[0;32m    448\u001b[0m     \u001b[38;5;66;03m# Dictionary Update\u001b[39;00m\n\u001b[0;32m    449\u001b[0m     \u001b[38;5;28;01mif\u001b[39;00m step \u001b[38;5;241m%\u001b[39m dict_update_freq \u001b[38;5;241m==\u001b[39m \u001b[38;5;241m0\u001b[39m:\n\u001b[1;32m--> 450\u001b[0m         W[\u001b[38;5;241m0\u001b[39m] \u001b[38;5;241m=\u001b[39m \u001b[38;5;28mself\u001b[39m\u001b[38;5;241m.\u001b[39mupdate_dict_joint_logistic(X, H, W, stopping_diff\u001b[38;5;241m=\u001b[39m\u001b[38;5;241m0.0001\u001b[39m,\n\u001b[0;32m    451\u001b[0m                                          sub_iter \u001b[38;5;241m=\u001b[39m \u001b[38;5;241m5\u001b[39m,\n\u001b[0;32m    452\u001b[0m                                          r\u001b[38;5;241m=\u001b[39msearch_radius, nonnegativity\u001b[38;5;241m=\u001b[39m\u001b[38;5;28mself\u001b[39m\u001b[38;5;241m.\u001b[39mnonnegativity[\u001b[38;5;241m1\u001b[39m],\n\u001b[0;32m    453\u001b[0m                                          a1\u001b[38;5;241m=\u001b[39m\u001b[38;5;28mself\u001b[39m\u001b[38;5;241m.\u001b[39mL1_reg[\u001b[38;5;241m1\u001b[39m], a2\u001b[38;5;241m=\u001b[39m\u001b[38;5;28mself\u001b[39m\u001b[38;5;241m.\u001b[39mL2_reg[\u001b[38;5;241m1\u001b[39m],\n\u001b[0;32m    454\u001b[0m                                          subsample_size \u001b[38;5;241m=\u001b[39m \u001b[38;5;28;01mNone\u001b[39;00m)\n\u001b[0;32m    455\u001b[0m         W[\u001b[38;5;241m0\u001b[39m] \u001b[38;5;241m/\u001b[39m\u001b[38;5;241m=\u001b[39m np\u001b[38;5;241m.\u001b[39mlinalg\u001b[38;5;241m.\u001b[39mnorm(W[\u001b[38;5;241m0\u001b[39m])\n\u001b[0;32m    457\u001b[0m     \u001b[38;5;66;03m# Code Update\u001b[39;00m\n",
      "File \u001b[1;32mc:\\Users\\KuangQi\\Desktop\\REU_main\\REU2024_code\\src\\supervised_NDL\\SMF_BCD.py:221\u001b[0m, in \u001b[0;36mSDL_BCD.update_dict_joint_logistic\u001b[1;34m(self, X, H, W0, r, a1, a2, sub_iter, stopping_diff, nonnegativity, subsample_size)\u001b[0m\n\u001b[0;32m    218\u001b[0m \u001b[38;5;66;03m# Regression Parameters Update\u001b[39;00m\n\u001b[0;32m    220\u001b[0m X0_comp \u001b[38;5;241m=\u001b[39m W1\u001b[38;5;241m.\u001b[39mT \u001b[38;5;241m@\u001b[39m X[\u001b[38;5;241m0\u001b[39m]\n\u001b[1;32m--> 221\u001b[0m H1_ext \u001b[38;5;241m=\u001b[39m np\u001b[38;5;241m.\u001b[39mvstack((np\u001b[38;5;241m.\u001b[39mones(X[\u001b[38;5;241m1\u001b[39m]\u001b[38;5;241m.\u001b[39mshape[\u001b[38;5;241m1\u001b[39m]), X0_comp))\n\u001b[0;32m    222\u001b[0m \u001b[38;5;28;01mif\u001b[39;00m \u001b[38;5;28mself\u001b[39m\u001b[38;5;241m.\u001b[39mX_auxiliary \u001b[38;5;129;01mis\u001b[39;00m \u001b[38;5;129;01mnot\u001b[39;00m \u001b[38;5;28;01mNone\u001b[39;00m:\n\u001b[0;32m    223\u001b[0m     H1_ext \u001b[38;5;241m=\u001b[39m np\u001b[38;5;241m.\u001b[39mvstack((H1_ext, \u001b[38;5;28mself\u001b[39m\u001b[38;5;241m.\u001b[39mX_auxiliary[:,:]))\n",
      "File \u001b[1;32m<__array_function__ internals>:200\u001b[0m, in \u001b[0;36mvstack\u001b[1;34m(*args, **kwargs)\u001b[0m\n",
      "File \u001b[1;32mk:\\Apps\\Anaconda3\\Lib\\site-packages\\numpy\\core\\shape_base.py:296\u001b[0m, in \u001b[0;36mvstack\u001b[1;34m(tup, dtype, casting)\u001b[0m\n\u001b[0;32m    294\u001b[0m \u001b[38;5;28;01mif\u001b[39;00m \u001b[38;5;129;01mnot\u001b[39;00m \u001b[38;5;28misinstance\u001b[39m(arrs, \u001b[38;5;28mlist\u001b[39m):\n\u001b[0;32m    295\u001b[0m     arrs \u001b[38;5;241m=\u001b[39m [arrs]\n\u001b[1;32m--> 296\u001b[0m \u001b[38;5;28;01mreturn\u001b[39;00m _nx\u001b[38;5;241m.\u001b[39mconcatenate(arrs, \u001b[38;5;241m0\u001b[39m, dtype\u001b[38;5;241m=\u001b[39mdtype, casting\u001b[38;5;241m=\u001b[39mcasting)\n",
      "File \u001b[1;32m<__array_function__ internals>:200\u001b[0m, in \u001b[0;36mconcatenate\u001b[1;34m(*args, **kwargs)\u001b[0m\n",
      "\u001b[1;31mValueError\u001b[0m: all the input array dimensions except for the concatenation axis must match exactly, but along dimension 1, the array at index 0 has size 143 and the array at index 1 has size 140"
     ]
    }
   ],
   "source": [
    "ntwk_list = ['CM_Caltech36', 'WS_Caltech36', 'BA_Caltech36', 'Caltech36']\n",
    "plot_3d_prediction(ntwk_list, base_sample_size=50, k=5, n_components=10, iterations=50, baseline_i=0)"
   ]
  },
  {
   "cell_type": "code",
   "execution_count": null,
   "metadata": {},
   "outputs": [],
   "source": []
  },
  {
   "cell_type": "markdown",
   "metadata": {},
   "source": [
    "# Biological Networks"
   ]
  },
  {
   "cell_type": "code",
   "execution_count": 3,
   "metadata": {},
   "outputs": [
    {
     "name": "stdout",
     "output_type": "stream",
     "text": [
      "Getting save path...\n",
      "Computing dictionary for baseline 0 and saving to dictionaries/bio-human_bio-fruitfly_bio-plant_bs50_k5_xi7_nc10_iter50_bi0.pkl\n",
      "Calling `sndl_equalEdge` and computing dictionary\n",
      "Calling `sndl_equalEdge` and computing dictionary\n",
      "Calling `sndl_equalEdge` and computing dictionary\n"
     ]
    },
    {
     "ename": "ValueError",
     "evalue": "all the input arrays must have same number of dimensions, but the array at index 0 has 2 dimension(s) and the array at index 21 has 1 dimension(s)",
     "output_type": "error",
     "traceback": [
      "\u001b[1;31m---------------------------------------------------------------------------\u001b[0m",
      "\u001b[1;31mValueError\u001b[0m                                Traceback (most recent call last)",
      "Cell \u001b[1;32mIn[3], line 2\u001b[0m\n\u001b[0;32m      1\u001b[0m ntwk_list \u001b[38;5;241m=\u001b[39m [\u001b[38;5;124m'\u001b[39m\u001b[38;5;124mbio-human\u001b[39m\u001b[38;5;124m'\u001b[39m, \u001b[38;5;124m'\u001b[39m\u001b[38;5;124mbio-fruitfly\u001b[39m\u001b[38;5;124m'\u001b[39m, \u001b[38;5;124m'\u001b[39m\u001b[38;5;124mbio-plant\u001b[39m\u001b[38;5;124m'\u001b[39m, \u001b[38;5;124m'\u001b[39m\u001b[38;5;124mbio-mouse\u001b[39m\u001b[38;5;124m'\u001b[39m, \u001b[38;5;124m'\u001b[39m\u001b[38;5;124mbio-worm\u001b[39m\u001b[38;5;124m'\u001b[39m]\n\u001b[1;32m----> 2\u001b[0m plot_3d_prediction(ntwk_list, base_sample_size\u001b[38;5;241m=\u001b[39m\u001b[38;5;241m50\u001b[39m, k\u001b[38;5;241m=\u001b[39m\u001b[38;5;241m5\u001b[39m, n_components\u001b[38;5;241m=\u001b[39m\u001b[38;5;241m10\u001b[39m, iterations\u001b[38;5;241m=\u001b[39m\u001b[38;5;241m50\u001b[39m, baseline_i\u001b[38;5;241m=\u001b[39m\u001b[38;5;241m0\u001b[39m)\n",
      "File \u001b[1;32mc:\\Users\\KuangQi\\Desktop\\REU_main\\REU2024_code\\Visualization.py:243\u001b[0m, in \u001b[0;36mplot_3d_prediction\u001b[1;34m(ntwk_list, base_sample_size, k, n_components, iterations, baseline_i)\u001b[0m\n\u001b[0;32m    240\u001b[0m os\u001b[38;5;241m.\u001b[39mmakedirs(\u001b[38;5;124m'\u001b[39m\u001b[38;5;124mdictionaries\u001b[39m\u001b[38;5;124m'\u001b[39m, exist_ok\u001b[38;5;241m=\u001b[39m\u001b[38;5;28;01mTrue\u001b[39;00m)\n\u001b[0;32m    242\u001b[0m \u001b[38;5;66;03m# Compute dictionary for the baseline set of 3 networks\u001b[39;00m\n\u001b[1;32m--> 243\u001b[0m W, beta, H \u001b[38;5;241m=\u001b[39m compute_latent_motifs_and_dictionary(ntwk_list, base_sample_size\u001b[38;5;241m=\u001b[39mbase_sample_size, k\u001b[38;5;241m=\u001b[39mk, xi\u001b[38;5;241m=\u001b[39m\u001b[38;5;241m7\u001b[39m, n_components\u001b[38;5;241m=\u001b[39mn_components, iterations\u001b[38;5;241m=\u001b[39miterations, baseline_i\u001b[38;5;241m=\u001b[39mbaseline_i)\n\u001b[0;32m    245\u001b[0m \u001b[38;5;66;03m# Compute affinity scores for all networks\u001b[39;00m\n\u001b[0;32m    246\u001b[0m affinity_scores \u001b[38;5;241m=\u001b[39m compute_affinity_scores_for_all_networks(ntwk_list, W, beta, baseline_i)\n",
      "File \u001b[1;32mc:\\Users\\KuangQi\\Desktop\\REU_main\\REU2024_code\\Visualization.py:130\u001b[0m, in \u001b[0;36mcompute_latent_motifs_and_dictionary\u001b[1;34m(ntwk_list, base_sample_size, k, xi, n_components, iterations, baseline_i)\u001b[0m\n\u001b[0;32m    128\u001b[0m         \u001b[38;5;28mprint\u001b[39m(\u001b[38;5;124m\"\u001b[39m\u001b[38;5;124mCalling `sndl_equalEdge` and computing dictionary\u001b[39m\u001b[38;5;124m\"\u001b[39m)\n\u001b[0;32m    129\u001b[0m     \u001b[38;5;28;01mwith\u001b[39;00m suppress_output():\n\u001b[1;32m--> 130\u001b[0m         W, beta, H \u001b[38;5;241m=\u001b[39m sndl_equalEdge(graph_list, base_sample_size\u001b[38;5;241m=\u001b[39mbase_sample_size, k\u001b[38;5;241m=\u001b[39mk, xi\u001b[38;5;241m=\u001b[39mxi, n_components\u001b[38;5;241m=\u001b[39mn_components, \u001b[38;5;28miter\u001b[39m\u001b[38;5;241m=\u001b[39miterations)\n\u001b[0;32m    132\u001b[0m     save_dictionary(W, beta, H, filepath)\n\u001b[0;32m    134\u001b[0m \u001b[38;5;28;01mreturn\u001b[39;00m W, beta, H\n",
      "File \u001b[1;32mc:\\Users\\KuangQi\\Desktop\\REU_main\\REU2024_code\\src\\supervised_NDL\\SNDL.py:42\u001b[0m, in \u001b[0;36msndl_equalEdge\u001b[1;34m(graph_list, sample_size_list, k, xi, threshold, n_components, iter, base_sample_size, subsample_number, if_compute_recons_error, if_validate)\u001b[0m\n\u001b[0;32m     40\u001b[0m \u001b[38;5;66;03m### Sample subgraphs to ensure similar edge number in each subgraph\u001b[39;00m\n\u001b[0;32m     41\u001b[0m \u001b[38;5;28;01mif\u001b[39;00m sample_size_list \u001b[38;5;241m==\u001b[39m \u001b[38;5;28;01mNone\u001b[39;00m:\n\u001b[1;32m---> 42\u001b[0m     temp_X, temp_y \u001b[38;5;241m=\u001b[39m sampling_sndl(graph_list, sample_size_list\u001b[38;5;241m=\u001b[39m[subsample_number]\u001b[38;5;241m*\u001b[39m\u001b[38;5;28mlen\u001b[39m(graph_list)\n\u001b[0;32m     43\u001b[0m                                    , k\u001b[38;5;241m=\u001b[39mk)\n\u001b[0;32m     44\u001b[0m     edge_num \u001b[38;5;241m=\u001b[39m []\n\u001b[0;32m     45\u001b[0m     ratio \u001b[38;5;241m=\u001b[39m []\n",
      "File \u001b[1;32mc:\\Users\\KuangQi\\Desktop\\REU_main\\REU2024_code\\src\\sampling\\Sampling.py:50\u001b[0m, in \u001b[0;36msampling_sndl\u001b[1;34m(list_graphs, labels, k, sample_size_list, sample_size, sampling_alg, skip_folded_hom)\u001b[0m\n\u001b[0;32m     47\u001b[0m         X_list\u001b[38;5;241m.\u001b[39mappend(X)\n\u001b[0;32m     48\u001b[0m         embs_list\u001b[38;5;241m.\u001b[39mappend(embs)\n\u001b[1;32m---> 50\u001b[0m X_list \u001b[38;5;241m=\u001b[39m np\u001b[38;5;241m.\u001b[39mconcatenate(X_list, axis\u001b[38;5;241m=\u001b[39m\u001b[38;5;241m1\u001b[39m)\n\u001b[0;32m     53\u001b[0m \u001b[38;5;66;03m# Construct the labels\u001b[39;00m\n\u001b[0;32m     54\u001b[0m \u001b[38;5;28;01mif\u001b[39;00m labels \u001b[38;5;241m==\u001b[39m \u001b[38;5;28;01mNone\u001b[39;00m:\n",
      "File \u001b[1;32m<__array_function__ internals>:200\u001b[0m, in \u001b[0;36mconcatenate\u001b[1;34m(*args, **kwargs)\u001b[0m\n",
      "\u001b[1;31mValueError\u001b[0m: all the input arrays must have same number of dimensions, but the array at index 0 has 2 dimension(s) and the array at index 21 has 1 dimension(s)"
     ]
    }
   ],
   "source": [
    "ntwk_list = ['bio-human', 'bio-fruitfly', 'bio-plant', 'bio-mouse', 'bio-worm']\n",
    "plot_3d_prediction(ntwk_list, base_sample_size=50, k=5, n_components=10, iterations=50, baseline_i=0)"
   ]
  },
  {
   "cell_type": "code",
   "execution_count": null,
   "metadata": {},
   "outputs": [],
   "source": []
  }
 ],
 "metadata": {
  "kernelspec": {
   "display_name": "base",
   "language": "python",
   "name": "python3"
  },
  "language_info": {
   "codemirror_mode": {
    "name": "ipython",
    "version": 3
   },
   "file_extension": ".py",
   "mimetype": "text/x-python",
   "name": "python",
   "nbconvert_exporter": "python",
   "pygments_lexer": "ipython3",
   "version": "3.11.4"
  }
 },
 "nbformat": 4,
 "nbformat_minor": 2
}
